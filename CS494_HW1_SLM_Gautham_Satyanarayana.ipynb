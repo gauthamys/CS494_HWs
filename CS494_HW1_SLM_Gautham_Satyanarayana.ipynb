{
  "nbformat": 4,
  "nbformat_minor": 0,
  "metadata": {
    "colab": {
      "provenance": []
    },
    "kernelspec": {
      "name": "python3",
      "display_name": "Python 3"
    },
    "language_info": {
      "name": "python"
    }
  },
  "cells": [
    {
      "cell_type": "markdown",
      "source": [
        "**Submission Instruction**\n",
        "\n",
        "1- Copy the notebook and replace blank with your name\n",
        "\n",
        "2- Complete the notebook\n",
        "\n",
        "3- Run all of the cells (all cells must have output)\n",
        "\n",
        "4- Downlow the .ipynb (file->Download->Download .ipynb)\n",
        "\n",
        "5- Submit on the .ipynb on Gradescope\n",
        "\n",
        "Note: Make sure that you submitted the correct file and check your submission to have the outputs.\n"
      ],
      "metadata": {
        "id": "VdUnk4GbDicO"
      }
    },
    {
      "cell_type": "markdown",
      "source": [
        "# N-gram Language Models Project\n",
        "\n",
        "In this project, you'll build and test N-gram language models - the simplest type of language model that predicts the next word based only on the previous N words.\n",
        "\n",
        "## What you'll learn:\n",
        "* Train unigram and N-gram models on text data\n",
        "* Measure model quality using perplexity scores\n",
        "* Generate new text from your trained models\n",
        "* Apply Laplace smoothing to handle unseen word combinations\n",
        "\n",
        "\n",
        "## Dataset:\n",
        "Shakespeare's plays\n",
        "\n",
        "## Key concept:\n",
        "N-gram models assume that predicting a word only depends on the N words that came before it, making them simple but effective for understanding language modeling basics.\n",
        "\n",
        "## RUBRIC (Total: 40 points)\n",
        "\n",
        "### **Section 1: Unigram Language Models (10 points)**\n",
        "\n",
        "- **append_eos function**  \n",
        "  - Correctly appends `<eos>` to each sentence.  \n",
        "  - Passes `test_append_eos()`.\n",
        "\n",
        "- **compute_unigram_probabilities function**  \n",
        "  - Correctly computes unigram probabilities.  \n",
        "  - Passes `validate_unigram()` test cases.\n",
        "\n",
        "- **eval_likelihood_word_unigram function**  \n",
        "  - Computes average log likelihood and perplexity for unigram model.  \n",
        "  - Handles unknown words with `(-inf, inf)`.  \n",
        "  - Handles numerical issues appropriately.\n",
        "\n",
        "- **switch_with_unk function**  \n",
        "  - Replaces rare words with `<unk>` based on threshold.  \n",
        "  - Passes `test_wth_unks()` for thresholds 3 and 5.\n",
        "\n",
        "- **eval_likelihood_word_unigram_unk function**  \n",
        "  - Evaluates likelihood/perplexity using `<unk>` for unseen words.  \n",
        "  - Produces finite perplexity on dev set.\n",
        "\n",
        "- **generate_unigram_sample function**  \n",
        "  - Samples words from unigram distribution, respects prefix, stops at `<eos>` or `max_words`.  \n",
        "  - Passes `test_sampling()`.\n",
        "\n",
        "---\n",
        "\n",
        "### **Section 2: N-gram Language Models (10 points)**\n",
        "\n",
        "- **process_Ngram function**  \n",
        "  - Adds correct number of `<sos>` tokens based on N.  \n",
        "  - Passes `test_process_text_for_Ngram()` for N = 1 to 4.\n",
        "\n",
        "- **NGramLM class – fit method**  \n",
        "  - Processes data, builds vocab (including `<unk>`), counts n-grams and contexts.\n",
        "\n",
        "- **NGramLM class – evaluate method**  \n",
        "  - Computes perplexity on eval data.  \n",
        "  - Maps unseen words to `<unk>`.  \n",
        "  - Returns `inf` for zero-probability events.  \n",
        "  - Matches unigram sanity check.  \n",
        "  - Achieves expected perplexities for bigram/trigram.\n",
        "\n",
        "- **NGramLM class – sampling method**  \n",
        "  - Samples text from model using prefix.  \n",
        "  - Uses `np.random.choice`.  \n",
        "  - Terminates on `<eos>` or `max_words`.  \n",
        "  - Passes `test_sample_text_ngram()`.\n",
        "\n",
        "---\n",
        "\n",
        "### **Section 3: Add-k Smoothing (10 points)**\n",
        "\n",
        "- **Ksmoothing class – fit method**  \n",
        "  - Inherits from NGramLM.  \n",
        "  - Correctly sets vocabulary size `V`.\n",
        "\n",
        "- **Ksmoothing class – eval_perplexity method**  \n",
        "  - Computes smoothed probabilities.  \n",
        "  - Produces finite dev perplexity.  \n",
        "  - Meets expected perplexity thresholds (≤ 61 train, ≤ 149 dev for bigram with k=0.01).\n",
        "\n",
        "- **Ksmoothing class – sample_text method**  \n",
        "  - Samples using smoothed probabilities.  \n",
        "  - Includes all vocab words as possible next tokens.  \n",
        "  - Passes `test_sample_text_bigram_laplace_model()` and `test_sample_text_ngram_laplace()`.\n",
        "\n",
        "---\n",
        "\n",
        "\n"
      ],
      "metadata": {
        "id": "FUpMdgYkMuoz"
      }
    },
    {
      "cell_type": "markdown",
      "source": [
        "Place the data files from the BB on your Google drive\n",
        "\n",
        "### Dataset loading instruction:\n",
        "The data is taken from Shakespear Plays data.\n",
        "The data file consists of two files train.txt and dev.text.\n",
        "\n",
        "1. Mount the google drive- ensures you can access your files in Google Drive from Colab.\n",
        "2. Make sure your path points to the folder where train.txt and dev.txt are located.\n",
        "3. Read both training and dev data as line-separated sentences."
      ],
      "metadata": {
        "id": "9DSo7DWDEYAe"
      }
    },
    {
      "cell_type": "code",
      "source": [
        "from google.colab import drive\n",
        "drive.mount('/content/drive')\n",
        "\n",
        "#change the path address if to be consistent with your address\n",
        "path = '/content/drive/My Drive/ngram/'\n"
      ],
      "metadata": {
        "id": "RfzAzwDQEQsr",
        "colab": {
          "base_uri": "https://localhost:8080/"
        },
        "outputId": "db173de5-c2ef-4e2c-fe4f-c9c1628944de"
      },
      "execution_count": null,
      "outputs": [
        {
          "output_type": "stream",
          "name": "stdout",
          "text": [
            "Mounted at /content/drive\n"
          ]
        }
      ]
    },
    {
      "cell_type": "code",
      "source": [
        "#you can check the files in the path\n",
        "!ls \"{path}\""
      ],
      "metadata": {
        "id": "JZJzpW3mE1YO",
        "colab": {
          "base_uri": "https://localhost:8080/"
        },
        "outputId": "a03022bf-c800-426b-bf3d-b279eff7213b"
      },
      "execution_count": null,
      "outputs": [
        {
          "output_type": "stream",
          "name": "stdout",
          "text": [
            "dev.txt  train.txt\n"
          ]
        }
      ]
    },
    {
      "cell_type": "code",
      "source": [
        "# Load necessary packages\n",
        "import os\n",
        "from typing import List, Dict,Tuple\n",
        "\n",
        "import math\n",
        "import random\n",
        "import numpy as np\n",
        "import matplotlib.pyplot as plt\n",
        "from collections import defaultdict,Counter\n",
        "\n",
        "# Setup nltk\n",
        "!pip install nltk\n",
        "import nltk\n",
        "nltk.download('punkt')\n",
        "nltk.download('punkt_tab')\n",
        "from nltk.tokenize import word_tokenize, sent_tokenize"
      ],
      "metadata": {
        "colab": {
          "base_uri": "https://localhost:8080/"
        },
        "id": "lIDlwOfvNQsN",
        "outputId": "25de68dc-e49b-4103-81fb-b81f276a0b91"
      },
      "execution_count": null,
      "outputs": [
        {
          "output_type": "stream",
          "name": "stdout",
          "text": [
            "Requirement already satisfied: nltk in /usr/local/lib/python3.12/dist-packages (3.9.1)\n",
            "Requirement already satisfied: click in /usr/local/lib/python3.12/dist-packages (from nltk) (8.2.1)\n",
            "Requirement already satisfied: joblib in /usr/local/lib/python3.12/dist-packages (from nltk) (1.5.2)\n",
            "Requirement already satisfied: regex>=2021.8.3 in /usr/local/lib/python3.12/dist-packages (from nltk) (2024.11.6)\n",
            "Requirement already satisfied: tqdm in /usr/local/lib/python3.12/dist-packages (from nltk) (4.67.1)\n"
          ]
        },
        {
          "output_type": "stream",
          "name": "stderr",
          "text": [
            "[nltk_data] Downloading package punkt to /root/nltk_data...\n",
            "[nltk_data]   Unzipping tokenizers/punkt.zip.\n",
            "[nltk_data] Downloading package punkt_tab to /root/nltk_data...\n",
            "[nltk_data]   Unzipping tokenizers/punkt_tab.zip.\n"
          ]
        }
      ]
    },
    {
      "cell_type": "code",
      "execution_count": null,
      "metadata": {
        "id": "8Gy2szV-ejir"
      },
      "outputs": [],
      "source": [
        "\n",
        "# Helper functions for test cases\n",
        "def evaluate_test_case(input, output, expected_output, output_str=\"Output\", atol=1e-4):\n",
        "    \"\"\"\n",
        "    Evaluate a test case by comparing actual output with expected output.\n",
        "\n",
        "    Args:\n",
        "        input: The test input (can be None)\n",
        "        output: The actual output from your code\n",
        "        expected_output: What the output should be\n",
        "        output_str: Label for the output (defaults to \"Output\")\n",
        "        atol: Absolute tolerance for numerical comparisons (defaults to 1e-4)\n",
        "    \"\"\"\n",
        "\n",
        "    # Display input if provided\n",
        "    if input is not None:\n",
        "        print(\"Input:\\n\", input)\n",
        "\n",
        "    # Display outputs\n",
        "    print(f\"{output_str}:\\n\", output)\n",
        "    print(f\"Expected {output_str}:\\n\", expected_output)\n",
        "\n",
        "    # Determine comparison method based on type\n",
        "    if isinstance(output, str):\n",
        "        match = output == expected_output\n",
        "    elif isinstance(output, list):\n",
        "        match = output == expected_output\n",
        "    else:\n",
        "        # For numerical data (arrays, numbers, etc.)\n",
        "        try:\n",
        "            match = np.allclose(output, expected_output, atol=atol)\n",
        "        except:\n",
        "            # Fallback to regular equality if np.allclose fails\n",
        "            match = output == expected_output\n",
        "\n",
        "    # Report result\n",
        "    if match:\n",
        "        print(\"Test case passed! :)\")\n",
        "    else:\n",
        "        print(\"Test case failed! :(\")\n",
        "\n",
        "    print(\"\\n\" + \"=\"*50 + \"\\n\")\n",
        "\n",
        "    return match  # Return boolean result in case you need it"
      ]
    },
    {
      "cell_type": "markdown",
      "source": [
        "## Section 1: Word-level Unigram Language Models\n",
        "\n",
        "We'll start with the simplest type of language model: **unigram models**. These models treat each word independently and learn how often each word appears in the training data.\n",
        "\n",
        "### Key Concept:\n",
        "For a sequence of words $w_1, w_2, \\cdots, w_n$, a unigram model calculates the probability as:\n",
        "\n",
        "$$P(w_1, w_2, \\cdots, w_n) = P(w_1) \\times P(w_2) \\times \\cdots \\times P(w_n)$$\n",
        "\n",
        "where $P(w_i)$ is simply how frequently word $w_i$ appears in the training corpus.\n",
        "\n",
        "### What you'll do:\n",
        "* Learn word frequencies from Shakespeare's plays\n",
        "* Calculate probabilities for individual words\n",
        "* Understand how independence assumption works in practice\n",
        "\n"
      ],
      "metadata": {
        "id": "nVlledmeYV76"
      }
    },
    {
      "cell_type": "code",
      "source": [
        "with open(f\"{path}/train.txt\") as f:\n",
        "    train_data = f.read().split(\"\\n\")\n",
        "\n",
        "with open(f\"{path}/dev.txt\") as f:\n",
        "    dev_data = f.read().split(\"\\n\")"
      ],
      "metadata": {
        "id": "YUc7mDjAZbX2"
      },
      "execution_count": null,
      "outputs": []
    },
    {
      "cell_type": "markdown",
      "source": [
        "print first 10 sentences from the training data."
      ],
      "metadata": {
        "id": "dQG-WApuB-W-"
      }
    },
    {
      "cell_type": "code",
      "source": [
        "print(\"\\n\".join(train_data[:10]))"
      ],
      "metadata": {
        "id": "wAqqv-9TCADt",
        "colab": {
          "base_uri": "https://localhost:8080/"
        },
        "outputId": "b175d9fe-6dc7-4827-a5bd-37a0e14272b5"
      },
      "execution_count": null,
      "outputs": [
        {
          "output_type": "stream",
          "name": "stdout",
          "text": [
            "First Citizen : Before we proceed any further , hear me speak .\n",
            "All : Speak , speak .\n",
            "First Citizen : You are all resolved rather to die than to famish ?\n",
            "All : Resolved .\n",
            "resolved .\n",
            "First Citizen : First , you know Caius Marcius is chief enemy to the people .\n",
            "All : We know't , we know't .\n",
            "First Citizen : Let us kill him , and we 'll have corn at our own price .\n",
            "Is't a verdict ?\n",
            "All : No more talking o n't ; let it be done : away , away !\n"
          ]
        }
      ]
    },
    {
      "cell_type": "markdown",
      "source": [
        "Preprocessing- put an **\\<eos\\>** tag at the end of each sentence in the training and dev sets\n"
      ],
      "metadata": {
        "id": "m8MSGQIrVXM_"
      }
    },
    {
      "cell_type": "code",
      "source": [
        "#TO-FILL section\n",
        "def append_eos(lines: List[str]) -> List[str]:\n",
        "    \"\"\"\n",
        "    Appends the <eos> (end-of-sequence) token to each line of text.\n",
        "\n",
        "    Parameters:\n",
        "    - lines (List[str]): A list of strings, where each string represents a line of text.\n",
        "\n",
        "    Returns:\n",
        "    - List[str]: A new list where each string has the <eos> token appended at the end.\n",
        "    \"\"\"\n",
        "    return [line + \" <eos>\" for line in lines]"
      ],
      "metadata": {
        "id": "M7UFJMFhbTjq"
      },
      "execution_count": null,
      "outputs": []
    },
    {
      "cell_type": "code",
      "source": [
        "def test_append_eos():\n",
        "    print(\"Running Sample Test Case 1\")\n",
        "    data = [\"hello!\", \"world!\"]\n",
        "\n",
        "    evaluate_test_case(data, append_eos(data), [\"hello! <eos>\", \"world! <eos>\"])\n",
        "\n",
        "\n",
        "\n",
        "test_append_eos()"
      ],
      "metadata": {
        "id": "zyzYXdCXIwk2",
        "colab": {
          "base_uri": "https://localhost:8080/"
        },
        "outputId": "96b5e298-9e4b-4ffc-dbc9-92c009f0fdc9"
      },
      "execution_count": null,
      "outputs": [
        {
          "output_type": "stream",
          "name": "stdout",
          "text": [
            "Running Sample Test Case 1\n",
            "Input:\n",
            " ['hello!', 'world!']\n",
            "Output:\n",
            " ['hello! <eos>', 'world! <eos>']\n",
            "Expected Output:\n",
            " ['hello! <eos>', 'world! <eos>']\n",
            "Test case passed! :)\n",
            "\n",
            "==================================================\n",
            "\n"
          ]
        }
      ]
    },
    {
      "cell_type": "markdown",
      "source": [],
      "metadata": {
        "id": "gsgJNrtYf8cb"
      }
    },
    {
      "cell_type": "code",
      "execution_count": null,
      "metadata": {
        "id": "4azJ73t3ejit"
      },
      "outputs": [],
      "source": [
        "train_data_processed = append_eos(train_data)\n",
        "dev_data_processed = append_eos(dev_data)"
      ]
    },
    {
      "cell_type": "markdown",
      "source": [
        "## Section 1.1: Unigram Language Model\n",
        "\n",
        "It estimates the probability of each word based solely on its frequency in the training corpus.$$p(w_i) = \\frac{C(w_i)}{n}$$\n",
        "\n",
        "where $C(w_i)$ is the count of word $w_i$ in the training data and $n$ is the total number of words in the training dataset."
      ],
      "metadata": {
        "id": "AkoqegrViUah"
      }
    },
    {
      "cell_type": "code",
      "source": [
        "#TO-FILL section\n",
        "def compute_unigram_probabilities(sentences: List[str]) -> Dict[str, float]:\n",
        "    \"\"\"\n",
        "    Compute word-level unigram probabilities from a list of sentences.\n",
        "\n",
        "    Parameters\n",
        "\n",
        "    - sentences : List[str] A list of sentences from the training corpus.\n",
        "\n",
        "    Returns\n",
        "\n",
        "    - Dict[str, float] A dictionary mapping each unique word to its unigram probability,calculated as the frequency of the word divided by the total number of words.\n",
        "    \"\"\"\n",
        "    unigram_probs = {}\n",
        "    word_counts = Counter()\n",
        "    total_words = 0\n",
        "\n",
        "    for sentence in sentences:\n",
        "        words = sentence.split()\n",
        "        for word in words:\n",
        "            word_counts[word] += 1\n",
        "            total_words += 1\n",
        "\n",
        "    for word, count in word_counts.items():\n",
        "        unigram_probs[word] = count / total_words\n",
        "\n",
        "    return unigram_probs"
      ],
      "metadata": {
        "id": "8sxTs2kpcUii"
      },
      "execution_count": null,
      "outputs": []
    },
    {
      "cell_type": "code",
      "source": [
        "def validate_unigram(unigram_probs):\n",
        "\n",
        "    print(\"Running Sample Test Case 1: Check if the number of unique words is correct\")\n",
        "    evaluate_test_case(None, len(unigram_probs), 12610, output_str=\"Number of unique words\")\n",
        "\n",
        "    print(\"Running Sample Test Case 2: Check if the probability of word \\\"thou\\\" is correct\")\n",
        "    evaluate_test_case(\"thou\", unigram_probs[\"thou\"], 0.004559649641510829)\n",
        "\n",
        "    print(\"Running Sample Test Case 3: Check if the probability of word \\\"love\\\" is correct\")\n",
        "    evaluate_test_case(\"love\", unigram_probs[\"love\"], 0.0015984182127282134)\n",
        "\n",
        "    print(\"Running Sample Test Case 4: Check if the probability of word \\\"Richard\\\" is correct\")\n",
        "    evaluate_test_case(\"Richard\", unigram_probs[\"Richard\"], 0.0005035479340675586)\n",
        "\n",
        "    print(\"Running Sample Test Case 5: Check if the probability of word \\\"pytorch\\\" is correct\")\n",
        "    evaluate_test_case(\"pytorch\", unigram_probs.get(\"pytorch\", 0), 0)\n",
        "\n",
        "    print(\"Running Sample Test Case 6: Check if the probability of word \\\"richard\\\" is correct\")\n",
        "    evaluate_test_case(\"richard\", unigram_probs.get(\"richard\", 0), 0)\n",
        "\n",
        "\n"
      ],
      "metadata": {
        "id": "bdkVmfsFrHyB"
      },
      "execution_count": null,
      "outputs": []
    },
    {
      "cell_type": "code",
      "source": [
        "def plot_unigram_distribution(unigram_probs: Dict[str, float], top_k: int = 50):\n",
        "    \"\"\"\n",
        "    Visualizes the unigram probability distribution as a bar chart.\n",
        "\n",
        "    Parameters\n",
        "    - unigram_probs : Dict[str, float] Dictionary mapping words to their unigram probabilities.\n",
        "\n",
        "    - top_k : int Number of top most frequent words to show in the plot.\n",
        "    \"\"\"\n",
        "\n",
        "    sorted_items = sorted(unigram_probs.items(), key=lambda x: x[1], reverse=True)\n",
        "    top_items = sorted_items[:top_k]\n",
        "\n",
        "    words = [word for word, _ in top_items]\n",
        "    probs = np.array([p for _, p in top_items])\n",
        "\n",
        "\n",
        "    x = np.linspace(0, len(probs) - 1, 500)\n",
        "    smooth_probs = np.interp(x, np.arange(len(probs)), probs)\n",
        "\n",
        "    # Plot\n",
        "    plt.figure(figsize=(10, 5))\n",
        "    plt.plot(x, smooth_probs, label='PDF-like Curve')\n",
        "    plt.scatter(range(len(probs)), probs, color='red', s=10, label='Original Points')\n",
        "\n",
        "    # Optional: word labels\n",
        "    plt.xticks(ticks=np.arange(len(words)), labels=words, rotation=90)\n",
        "\n",
        "    plt.title('Unigram Probability Distribution (Top {} Words)'.format(top_k))\n",
        "    plt.xlabel('Words (by rank)')\n",
        "    plt.ylabel('Probability')\n",
        "\n",
        "    plt.tight_layout()\n",
        "    plt.grid(True)\n",
        "    plt.show()\n",
        "\n",
        "\n"
      ],
      "metadata": {
        "id": "RKrcMBtsqqpc"
      },
      "execution_count": null,
      "outputs": []
    },
    {
      "cell_type": "code",
      "source": [
        "unigram_probs = compute_unigram_probabilities(train_data_processed)\n",
        "validate_unigram(unigram_probs)\n",
        "plot_unigram_distribution(unigram_probs , top_k=50)"
      ],
      "metadata": {
        "id": "_dkEOh2KlL5l",
        "colab": {
          "base_uri": "https://localhost:8080/",
          "height": 1000
        },
        "outputId": "7e871aff-a1fa-4796-f678-eebb2906b618"
      },
      "execution_count": null,
      "outputs": [
        {
          "output_type": "stream",
          "name": "stdout",
          "text": [
            "Running Sample Test Case 1: Check if the number of unique words is correct\n",
            "Number of unique words:\n",
            " 12610\n",
            "Expected Number of unique words:\n",
            " 12610\n",
            "Test case passed! :)\n",
            "\n",
            "==================================================\n",
            "\n",
            "Running Sample Test Case 2: Check if the probability of word \"thou\" is correct\n",
            "Input:\n",
            " thou\n",
            "Output:\n",
            " 0.004559649641510829\n",
            "Expected Output:\n",
            " 0.004559649641510829\n",
            "Test case passed! :)\n",
            "\n",
            "==================================================\n",
            "\n",
            "Running Sample Test Case 3: Check if the probability of word \"love\" is correct\n",
            "Input:\n",
            " love\n",
            "Output:\n",
            " 0.0015984182127282134\n",
            "Expected Output:\n",
            " 0.0015984182127282134\n",
            "Test case passed! :)\n",
            "\n",
            "==================================================\n",
            "\n",
            "Running Sample Test Case 4: Check if the probability of word \"Richard\" is correct\n",
            "Input:\n",
            " Richard\n",
            "Output:\n",
            " 0.0005035479340675586\n",
            "Expected Output:\n",
            " 0.0005035479340675586\n",
            "Test case passed! :)\n",
            "\n",
            "==================================================\n",
            "\n",
            "Running Sample Test Case 5: Check if the probability of word \"pytorch\" is correct\n",
            "Input:\n",
            " pytorch\n",
            "Output:\n",
            " 0\n",
            "Expected Output:\n",
            " 0\n",
            "Test case passed! :)\n",
            "\n",
            "==================================================\n",
            "\n",
            "Running Sample Test Case 6: Check if the probability of word \"richard\" is correct\n",
            "Input:\n",
            " richard\n",
            "Output:\n",
            " 0\n",
            "Expected Output:\n",
            " 0\n",
            "Test case passed! :)\n",
            "\n",
            "==================================================\n",
            "\n"
          ]
        },
        {
          "output_type": "display_data",
          "data": {
            "text/plain": [
              "<Figure size 1000x500 with 1 Axes>"
            ],
            "image/png": "[encoded data removed]"
          },
          "metadata": {}
        }
      ]
    },
    {
      "cell_type": "markdown",
      "source": [
        "### Section 1.2: Evaluating (word-level) Unigram Language Models .\n",
        "Probability of a sentence is computed by multiplying the probabilities of individual words, assuming independence between them. The log-likelihood is simply the **log of that probability**, which avoids numerical underflow and allows us to **add** rather than multiply probabilities:\n",
        "\n",
        "$$\n",
        "\\log P(w_1 w_2 \\cdots w_n) = \\sum_{i=1}^n \\log P(w_i)\n",
        "$$\n",
        "\n",
        "where $w_1, w_2, \\ldots, w_n$ are the words in the test corpus.\n",
        "\n",
        "In practice, we often **normalize** this log-likelihood by the number of words $n$ to compute the **average log-likelihood per word**:\n",
        "\n",
        "$$\n",
        "\\text{avg_log_likelihood}(W) = \\frac{1}{n} \\sum_{i=1}^n \\log P(w_i)\n",
        "$$\n",
        "\n",
        "When the dataset contains multiple sentences and we assume sentences are independent (as is typical for N-gram models), we can write:\n",
        "\n",
        "$$\n",
        "\\text{avg_log_likelihood}(W) = \\frac{1}{n} \\sum_{S \\in W} \\sum_{i=1}^{n_S} \\log P(s_i)\n",
        "$$\n",
        "\n",
        "where:\n",
        "\n",
        "* $S$ is a sentence in the test corpus $W$,\n",
        "* $s_i$ is the $i^{\\text{th}}$ word in sentence $S$,\n",
        "* $n_S$ is the number of words in $S$,\n",
        "* and $n$ is the total number of words across all sentences.\n",
        "\n",
        "\n",
        "$$\\text{perplexity}(W) = P(w_1w_2\\cdots w_n)^{\\frac{-1}{n}} = \\sqrt[n]{\\frac{1}{P(w_1w_2\\cdots w_n)}}$$\n",
        "\n",
        "where $W$ is a test set with $n$ words $w_1w_2\\cdots w_n$\n",
        "\n",
        "It is useful to do perplexity calculation in log space to avoid numerical issues\n",
        "\n",
        "$$\\text{perplexity}(W) = \\exp\\bigl(-\\frac{\\log{P(w_1w_2\\cdots w_n)}}{n}\\bigr)$$\n",
        "\n",
        "\n",
        "\n",
        "\n",
        "Where:\n",
        "-  n  is the total number of words in the dataset\n",
        "-  P(w_i)  is the model's probability for word \\( w_i \\)\n",
        "\n",
        "\n",
        "###Intuition of perplexity\n",
        "\n",
        "Perplexity is essentially a **transformation of the average log-likelihood** of the data under the model. It measures the **inverse probability of the test set**, normalized by the number of tokens.\n",
        "\n",
        "#### Key relationship:\n",
        "\n",
        "\n",
        "\n",
        "$$\\text{Perplexity}(W) = \\exp(-\\text{Average Log-Likelihood}(W))\n",
        "\\$$\n",
        "\n",
        "- If the model assigns **high likelihood** to the data (i.e., high log-probabilities), the perplexity will be **low**.\n",
        "- If the model assigns **low likelihood** (i.e., it’s surprised by the data), the perplexity will be **high**.\n",
        "\n",
        ">  So, **lower perplexity ⇔ higher likelihood ⇔ better model**.\n",
        "\n",
        "---\n",
        "\n",
        "### Example Interpretation\n",
        "\n",
        "- A perplexity of **10** means the model is as uncertain as if it had to choose uniformly between 10 equally likely words at each step.\n",
        "- A perplexity of **1000** means it's essentially guessing randomly from a huge vocabulary.\n",
        "\n",
        "| Model Behavior                        | Perplexity | Interpretation              |\n",
        "|---------------------------------------|------------|-----------------------------|\n",
        "| Perfect model (always correct)       | 1.0        | Maximum certainty           |\n",
        "| Real-world bigram model              | ~35–60     | Decent performance          |\n",
        "| Random model over vocab of 10,000    | 10,000     | Very poor predictions       |     |\n",
        "\n",
        "###  Why Not Just Use Likelihood?\n",
        "\n",
        "- **Likelihood** is hard to interpret across datasets of different lengths — it scales with the number of tokens.\n",
        "- **Average log-likelihood** is better but still in log space.\n",
        "- **Perplexity** gives us a **normalized, exponential-scale value**, which is easier to compare and interpret across different models and corpora.\n",
        "\n",
        "---\n"
      ],
      "metadata": {
        "id": "BM3k9X8ssN9D"
      }
    },
    {
      "cell_type": "code",
      "source": [
        "#TO-FILL section\n",
        "\n",
        "def eval_likelihood_word_unigram(data: List[str], unigram_probs: Dict[str, float]) -> Tuple[float, float]:\n",
        "    \"\"\"\n",
        "    Evaluate a unigram language model  by calculating likelihood and perplexity.\n",
        "\n",
        "    Note:\n",
        "    1. For each word in the evaluation data, look up its probability from unigram_probs\n",
        "    2. If any word is not found in unigram_probs, return (-inf, inf) since we can't handle unknown words YET\n",
        "    3. Sum up the log probabilities of all words (math.log())\n",
        "    4. Calculate average log likelihood\n",
        "    5. Calculate perplexity\n",
        "    6. Return both average log likelihood and perplexity as a tuple\n",
        "\n",
        "    Args:\n",
        "       data: List of sentences (strings) to evaluate\n",
        "       unigram_probs: Dictionary mapping words to their probabilities\n",
        "\n",
        "    Returns:\n",
        "       Tuple of (average_log_likelihood, perplexity)\n",
        "       Returns (-inf, inf) if any unknown words are encountered\n",
        "    \"\"\"\n",
        "\n",
        "\n",
        "    total_log_likelihood = 0.0\n",
        "    total_words = 0\n",
        "\n",
        "    for sentence in data:\n",
        "        words = sentence.split()\n",
        "        for word in words:\n",
        "            if word not in unigram_probs:\n",
        "                return (-math.inf, math.inf)\n",
        "            total_log_likelihood += math.log(unigram_probs[word])\n",
        "            total_words += 1\n",
        "\n",
        "    avg_log_likelihood = total_log_likelihood / total_words\n",
        "    perplexity = math.exp(-avg_log_likelihood)\n",
        "\n",
        "\n",
        "    return avg_log_likelihood, perplexity"
      ],
      "metadata": {
        "id": "V4XC6dxAN4zT"
      },
      "execution_count": null,
      "outputs": []
    },
    {
      "cell_type": "code",
      "execution_count": null,
      "metadata": {
        "id": "FEeLsluGejiu",
        "colab": {
          "base_uri": "https://localhost:8080/"
        },
        "outputId": "b10b6f52-38eb-4984-d72a-5856be606752"
      },
      "outputs": [
        {
          "output_type": "stream",
          "name": "stdout",
          "text": [
            "Train Perplexity: 575.1110328373742,Train likelihood: -6.35456312274257\n"
          ]
        }
      ],
      "source": [
        "train_likelihood,train_ppl= eval_likelihood_word_unigram(train_data_processed, unigram_probs)\n",
        "print(f\"Train Perplexity: {train_ppl},Train likelihood: {train_likelihood}\")"
      ]
    },
    {
      "cell_type": "code",
      "source": [
        "dev_likelihood,dev_ppl= eval_likelihood_word_unigram(dev_data_processed, unigram_probs)\n",
        "print(f\"dev Perplexity: {dev_ppl},dev likelihood: {dev_likelihood}\")"
      ],
      "metadata": {
        "id": "odbbsmQmPXG0",
        "colab": {
          "base_uri": "https://localhost:8080/"
        },
        "outputId": "af0ccf94-0ca0-4eae-9ec7-671da77ce7a4"
      },
      "execution_count": null,
      "outputs": [
        {
          "output_type": "stream",
          "name": "stdout",
          "text": [
            "dev Perplexity: inf,dev likelihood: -inf\n"
          ]
        }
      ]
    },
    {
      "cell_type": "markdown",
      "source": [
        "**Observation check**\n",
        "You should see a RuntimeWarning: divide by zero and a perplexity of infinity in this case.\n",
        "\n",
        "**Why did this happen?**\n",
        "\n",
        "The evaluation dataset contains words that never appeared in our training data. Since our unigram model only learned probabilities for words it saw during training, it assigns **zero probability** to these unseen words.\n",
        "\n",
        "When calculating perplexity, dividing by zero gives us infinity. This is a common problem in language modeling\n",
        "\n",
        "**Key takeaway:** Real-world text always contains words we haven't seen before, so we need techniques to handle unknown words gracefully."
      ],
      "metadata": {
        "id": "6H0cP8BiQw4c"
      }
    },
    {
      "cell_type": "markdown",
      "source": [
        "### Section 1.3: Handling Unknown Words\n",
        "\n",
        "**The Problem:** What happens when our model encounters a word it has never seen during training? Currently, our model returns infinite perplexity, which isn't useful.\n",
        "\n",
        "**The Solution:** Use an \"unknown word\" token `<unk>` to handle rare and unseen words.\n",
        "\n",
        "**The Process:**\n",
        "1. **During training:** Replace words that appear fewer than a threshold value times with `<unk>`\n",
        "2. **During evaluation:** When we see a word not in our vocabulary, treat it as `<unk>`\n",
        "\n",
        "**Example:** If thresold value is 3, any word appearing only 1-2 times gets replaced with `<unk>`\n",
        "\n",
        "\n",
        "\n",
        "This approach allows our model to gracefully handle vocabulary it hasn't seen before."
      ],
      "metadata": {
        "id": "ZiAXtWxMUrPz"
      }
    },
    {
      "cell_type": "code",
      "source": [
        "#TO-FILL section\n",
        "\n",
        "def switch_with_unk(data: List[str], threshold: int) -> List[str]:\n",
        "    \"\"\"\n",
        "    Replace words that occur less than a specified threshold with the <unk> token.\n",
        "    Note:\n",
        "    1.  Count word frequencies across all sentences\n",
        "    2.  Replace rare words with <unk> token\n",
        "\n",
        "    Args:\n",
        "    -data : List[str]\n",
        "        A list of sentences from the training corpus.\n",
        "    -threshold : int\n",
        "        Minimum frequency for a word to be kept in vocabulary.\n",
        "        Words appearing fewer times than this threshold are replaced with <unk>.\n",
        "\n",
        "    Returns\n",
        "\n",
        "    -List[str] : The  sentences with rare words replaced by <unk>.\n",
        "\n",
        "\n",
        "    \"\"\"\n",
        "\n",
        "    word_counts = Counter()\n",
        "    for sentence in data:\n",
        "        words = sentence.split()\n",
        "        for word in words:\n",
        "            word_counts[word] += 1\n",
        "\n",
        "    processed_data = []\n",
        "    for sentence in data:\n",
        "        words = sentence.split()\n",
        "        processed_sentence = [word if word_counts[word] >= threshold else \"<unk>\" for word in words]\n",
        "        processed_data.append(\" \".join(processed_sentence))\n",
        "\n",
        "    return processed_data"
      ],
      "metadata": {
        "id": "fae7Mt2jR69U"
      },
      "execution_count": null,
      "outputs": []
    },
    {
      "cell_type": "code",
      "source": [
        "def test_wth_unks():\n",
        "\n",
        "    print(\"# Testing for Threshold 3\\n\\n\")\n",
        "    train_data_wth_unks = switch_with_unk(train_data_processed, 3)\n",
        "    unigram_probs_wth_unks = compute_unigram_probabilities(train_data_wth_unks)\n",
        "    print(\"Sample Test Case 1: Check if the number of unique words is correct\")\n",
        "    evaluate_test_case(None, len(unigram_probs_wth_unks), 4620, output_str=\"Number of unique words\")\n",
        "\n",
        "    print(\"Sample Test Case 2: Check if the probability of word \\\"<unk>\\\" is correct\")\n",
        "    evaluate_test_case(\"<unk>\", unigram_probs_wth_unks[\"<unk>\"], 0.045185342597383396)\n",
        "\n",
        "    print(\"# Testing for threshold 5\\n\\n\")\n",
        "    train_data_wth_unks = switch_with_unk(train_data_processed, 5)\n",
        "    unigram_probs_wth_unks = compute_unigram_probabilities(train_data_wth_unks)\n",
        "    print(\"Sample Test Case 3: Check if the number of unique words is correct\")\n",
        "    evaluate_test_case(None, len(unigram_probs_wth_unks), 3088, output_str=\"Number of unique words\")\n",
        "\n",
        "    print(\"Sample Test Case 4: Check if the probability of word \\\"<unk>\\\" is correct\")\n",
        "    evaluate_test_case(\"<unk>\", unigram_probs_wth_unks[\"<unk>\"], 0.06910155961268387)\n",
        "\n",
        "test_wth_unks()"
      ],
      "metadata": {
        "id": "InqTEfUUU4yY",
        "colab": {
          "base_uri": "https://localhost:8080/"
        },
        "outputId": "739bf94f-41be-4599-bc5f-5a69a1b523a6"
      },
      "execution_count": null,
      "outputs": [
        {
          "output_type": "stream",
          "name": "stdout",
          "text": [
            "# Testing for Threshold 3\n",
            "\n",
            "\n",
            "Sample Test Case 1: Check if the number of unique words is correct\n",
            "Number of unique words:\n",
            " 4620\n",
            "Expected Number of unique words:\n",
            " 4620\n",
            "Test case passed! :)\n",
            "\n",
            "==================================================\n",
            "\n",
            "Sample Test Case 2: Check if the probability of word \"<unk>\" is correct\n",
            "Input:\n",
            " <unk>\n",
            "Output:\n",
            " 0.045185342597383396\n",
            "Expected Output:\n",
            " 0.045185342597383396\n",
            "Test case passed! :)\n",
            "\n",
            "==================================================\n",
            "\n",
            "# Testing for threshold 5\n",
            "\n",
            "\n",
            "Sample Test Case 3: Check if the number of unique words is correct\n",
            "Number of unique words:\n",
            " 3088\n",
            "Expected Number of unique words:\n",
            " 3088\n",
            "Test case passed! :)\n",
            "\n",
            "==================================================\n",
            "\n",
            "Sample Test Case 4: Check if the probability of word \"<unk>\" is correct\n",
            "Input:\n",
            " <unk>\n",
            "Output:\n",
            " 0.06910155961268387\n",
            "Expected Output:\n",
            " 0.06910155961268387\n",
            "Test case passed! :)\n",
            "\n",
            "==================================================\n",
            "\n"
          ]
        }
      ]
    },
    {
      "cell_type": "code",
      "source": [
        "train_data_wth_unks = switch_with_unk(train_data_processed, 3)\n",
        "unigram_probs_wth_unks = compute_unigram_probabilities(train_data_wth_unks)\n",
        "plot_unigram_distribution(unigram_probs_wth_unks , top_k=50)"
      ],
      "metadata": {
        "id": "SwylHQcKkSRA",
        "colab": {
          "base_uri": "https://localhost:8080/",
          "height": 507
        },
        "outputId": "a7b7b5af-5207-4b80-cd6a-c83030cb228b"
      },
      "execution_count": null,
      "outputs": [
        {
          "output_type": "display_data",
          "data": {
            "text/plain": [
              "<Figure size 1000x500 with 1 Axes>"
            ],
            "image/png": "[encoded data removed]"
          },
          "metadata": {}
        }
      ]
    },
    {
      "cell_type": "code",
      "source": [
        "#TO-FILL section\n",
        "\n",
        "def eval_likelihood_word_unigram_unk(data: List[str], unigram_probs_wth_unks: Dict[str, float]) -> Tuple[float, float]:\n",
        "    \"\"\"\n",
        "    Evaluates the average_log_likelihood and perplexity of a word-level unigram language model.\n",
        "    Unseen words are mapped to the <unk> token.\n",
        "\n",
        "    Args:\n",
        "    - data: List[str] —  sentences\n",
        "    - unigram_probs_wth_unks: Dict[str, float] — Probabilities including <unk>\n",
        "\n",
        "    Returns:\n",
        "    -  Tuple of (average_log_likelihood, perplexity)\n",
        "    \"\"\"\n",
        "    total_log_likelihood = 0.0\n",
        "    total_words = 0\n",
        "\n",
        "    for sentence in data:\n",
        "        words = sentence.split()\n",
        "        for word in words:\n",
        "            # Map unseen words to <unk>\n",
        "            word_to_evaluate = word if word in unigram_probs_wth_unks else \"<unk>\"\n",
        "            total_log_likelihood += math.log(unigram_probs_wth_unks[word_to_evaluate])\n",
        "            total_words += 1\n",
        "\n",
        "    avg_log_likelihood = total_log_likelihood / total_words\n",
        "    perplexity = math.exp(-avg_log_likelihood)\n",
        "\n",
        "    return avg_log_likelihood, perplexity"
      ],
      "metadata": {
        "id": "tLP6TXRQl8t1"
      },
      "execution_count": null,
      "outputs": []
    },
    {
      "cell_type": "code",
      "source": [
        "train_likelihood,train_ppl = eval_likelihood_word_unigram_unk(train_data_wth_unks, unigram_probs_wth_unks)\n",
        "print(f\"Train Perplexity: {train_ppl},Train likelihood: {train_likelihood}\")\n",
        "dev_likelihood,dev_ppl = eval_likelihood_word_unigram_unk(dev_data_processed, unigram_probs_wth_unks)\n",
        "print(f\"dev Perplexity: {dev_ppl},dev likelihood: {dev_likelihood}\")"
      ],
      "metadata": {
        "id": "6rDN_FYJmxwI",
        "colab": {
          "base_uri": "https://localhost:8080/"
        },
        "outputId": "5e7fc679-0116-4696-c3f3-312050a1c156"
      },
      "execution_count": null,
      "outputs": [
        {
          "output_type": "stream",
          "name": "stdout",
          "text": [
            "Train Perplexity: 384.0815655120125,Train likelihood: -5.9508549402194095\n",
            "dev Perplexity: 282.0959070802668,dev likelihood: -5.642247109147883\n"
          ]
        }
      ]
    },
    {
      "cell_type": "markdown",
      "source": [
        "### Section 1.4: Sampling from Unigram Language Model\n",
        "\n",
        "Now that we have trained and evaluated our unigram language model, let's generate text from it!\n",
        "\n",
        "**How text generation works:**\n",
        "To generate text from an N-gram language model, we:\n",
        "1. Start with some prefix words: $w_1, w_2, \\ldots, w_n$\n",
        "2. Sample the next word from the probability distribution based on previous words:\n",
        "  $$w_{n+1} \\sim P(w_{n+1} | w_{1}, \\ldots, w_{n})$$\n",
        "\n",
        "**Special case for unigram models:**\n",
        "Since unigram models treat all words as independent (no context matters), the probability simplifies to:\n",
        "$$w_{n+1} \\sim P(w_{n+1})$$\n",
        "\n",
        "This means each new word is sampled based only on how frequently it appears in the training data, regardless of what words came before it."
      ],
      "metadata": {
        "id": "yD1JYKsYp4OZ"
      }
    },
    {
      "cell_type": "code",
      "source": [
        "#TO-FILL section\n",
        "\n",
        "def generate_unigram_sample(unigram_probs: Dict[str, float], max_words: int, prefix: str = \"\") -> str:\n",
        "    \"\"\"\n",
        "  Samples sequence of words from a unigram language model.\n",
        "  Terminate sampling when either max_words is reached or when <eos> token is sampled.\n",
        "\n",
        "  Args:\n",
        "   - unigram_probs: Dict[str, float], a dictionary mapping words to their unigram probabilities\n",
        "   - max_words: int, the number of words to sample\n",
        "   - prefix: str, a prefix to start the sampling from. Can have multiple words separated by spaces.\n",
        "\n",
        "  Returns:\n",
        "   - str: sampled text i.e. string of sampled words separated by spaces along with the prefix\n",
        "\n",
        "  # Note: Please use np.random.choice to sample from the unigram_probs dictionary.\n",
        "   \"\"\"\n",
        "\n",
        "    words = list(unigram_probs.keys())\n",
        "    probabilities = list(unigram_probs.values())\n",
        "    sampled_words = prefix.split() if prefix else []\n",
        "\n",
        "    for _ in range(max_words):\n",
        "        next_word = np.random.choice(words, p=probabilities)\n",
        "        sampled_words.append(next_word)\n",
        "        if next_word == \"<eos>\":\n",
        "            break\n",
        "\n",
        "    return \" \".join(sampled_words)"
      ],
      "metadata": {
        "id": "nV8RXkGlp1Un"
      },
      "execution_count": null,
      "outputs": []
    },
    {
      "cell_type": "code",
      "source": [
        "def test_sampling():\n",
        "\n",
        "    np.random.seed(0)\n",
        "    sampled_string = generate_unigram_sample(unigram_probs_wth_unks, 10, \"The king\")\n",
        "    print(\"Running Test Case 1: Check if the sampled string starts with the prefix\")\n",
        "    evaluate_test_case(None, sampled_string.startswith(\"The king\"), True, output_str=\"Sampled string starts with the prefix\")\n",
        "\n",
        "    print(\"Running Test Case 2: Check if the sampled string has either 10 generated words or ends with <eos> token\")\n",
        "    print(f\"Generated string: {sampled_string}\")\n",
        "    print(f\"Number of generated words: {len(sampled_string.split()) - 2}\")\n",
        "    print(f\"Does the generated string end with <eos> token: {'<eos>' in sampled_string}\")\n",
        "    if len(sampled_string.split()) - 2 == 10 or (\n",
        "        len(sampled_string.split()) - 2 < 10 and \"<eos>\" in sampled_string\n",
        "    ):\n",
        "        print(\"Test passed! :)\")\n",
        "    else:\n",
        "        print(\"Test failed! :(\")\n",
        "    print(\"\\n\" + \"=\"*50 + \"\\n\")\n",
        "\n",
        "    print(\"Running Test Case 3: Check if the probability of generating <unk> token is correct\")\n",
        "\n",
        "    sampled_strings = [\n",
        "        generate_unigram_sample(unigram_probs_wth_unks, 1, \"\")\n",
        "        for _ in range(1000)\n",
        "    ]\n",
        "    sampled_string = \" \".join(sampled_strings)\n",
        "    num_unks = sampled_string.count(\"<unk>\")\n",
        "    unk_gen_prob = num_unks / len(sampled_string.split())\n",
        "    evaluate_test_case(None, unk_gen_prob, unigram_probs_wth_unks[\"<unk>\"], output_str=\"Probability of generating <unk> token\", atol=1e-2)\n"
      ],
      "metadata": {
        "id": "MlaS3KOPrDv5"
      },
      "execution_count": null,
      "outputs": []
    },
    {
      "cell_type": "code",
      "source": [
        "\n",
        "test_sampling()"
      ],
      "metadata": {
        "id": "NoGSMrtHrZ7t",
        "colab": {
          "base_uri": "https://localhost:8080/"
        },
        "outputId": "2656a1a3-5615-4dbc-8acb-c6848557e96c"
      },
      "execution_count": null,
      "outputs": [
        {
          "output_type": "stream",
          "name": "stdout",
          "text": [
            "Running Test Case 1: Check if the sampled string starts with the prefix\n",
            "Sampled string starts with the prefix:\n",
            " True\n",
            "Expected Sampled string starts with the prefix:\n",
            " True\n",
            "Test case passed! :)\n",
            "\n",
            "==================================================\n",
            "\n",
            "Running Test Case 2: Check if the sampled string has either 10 generated words or ends with <eos> token\n",
            "Generated string: The king If thee For no that body of weeping drunk it\n",
            "Number of generated words: 10\n",
            "Does the generated string end with <eos> token: False\n",
            "Test passed! :)\n",
            "\n",
            "==================================================\n",
            "\n",
            "Running Test Case 3: Check if the probability of generating <unk> token is correct\n",
            "Probability of generating <unk> token:\n",
            " 0.051\n",
            "Expected Probability of generating <unk> token:\n",
            " 0.045185342597383396\n",
            "Test case passed! :)\n",
            "\n",
            "==================================================\n",
            "\n"
          ]
        }
      ]
    },
    {
      "cell_type": "markdown",
      "source": [
        "Lets sample! The unigram model generates text that lacks coherence since it ignores context and simply samples the most frequent tokens. Next, we'll build context-aware language models that consider preceding words when predicting the next token."
      ],
      "metadata": {
        "id": "bhdLOnOJu35g"
      }
    },
    {
      "cell_type": "code",
      "source": [
        "for _ in range(5):\n",
        "    sampled_string = generate_unigram_sample(unigram_probs_wth_unks, 10)\n",
        "    print(sampled_string)"
      ],
      "metadata": {
        "id": "Ceol4tTLuMz8",
        "colab": {
          "base_uri": "https://localhost:8080/"
        },
        "outputId": "6d084f85-eb5a-4938-c892-18621e1ee414"
      },
      "execution_count": null,
      "outputs": [
        {
          "output_type": "stream",
          "name": "stdout",
          "text": [
            "where , know this : if in <unk> do How\n",
            "<unk> by To OF brow God in <eos>\n",
            "Shepherd . I , KING aspiring Than our <unk> <unk>\n",
            ". country . the yet high : that thus Do\n",
            "I GAUNT <unk> : I <unk> willing <unk> the She\n"
          ]
        }
      ]
    },
    {
      "cell_type": "markdown",
      "source": [
        "**Observation check**\n",
        "\n",
        "**Expected Results:**\n",
        "You should notice that the generated text doesn't make much sense! This is completely normal and expected.\n",
        "\n",
        "**Why does this happen?**\n",
        "Unigram models have a major limitation: they ignore context entirely. Since each word is sampled independently based only on its frequency in the training data, the model tends to just pick common words without considering whether they fit together meaningfully.\n",
        "\n",
        "**What's next:**\n",
        "We'll now build more sophisticated language models that consider context when predicting the next word. These N-gram models (bigram, trigram, etc.) will produce much more coherent text by accounting for the preceding words, though each model type considers different amounts of context."
      ],
      "metadata": {
        "id": "Lpgy6zn8gAnX"
      }
    },
    {
      "cell_type": "markdown",
      "source": [
        "## Section 2: N(>1)-Gram Word-Level Language Models\n",
        "\n",
        "Implement N-gram language models that use surrounding text context. Unlike unigram models, N-gram models condition each token on the previous N-1 tokens:\n",
        "\n",
        "$P(w_1, w_2, \\cdots, w_n) = \\prod_{k=1}^{n}P(w_k \\mid w_{k-N+1}, \\cdots, w_{k-1})$\n",
        "\n",
        "For a bigram model (N=2):\n",
        "$P(w_1, w_2, \\cdots, w_n) = \\prod_{k=1}^{n}P(w_k \\mid w_{k-1})$"
      ],
      "metadata": {
        "id": "_tAv-6Iwvhc9"
      }
    },
    {
      "cell_type": "code",
      "source": [
        "# Before we start, training data to be the one with <unk> tokens and dev data to be the one with <eos> tokens in the end\n",
        "train_data = train_data_wth_unks\n",
        "dev_data = dev_data_processed"
      ],
      "metadata": {
        "id": "muvMCdaQhF0-"
      },
      "execution_count": null,
      "outputs": []
    },
    {
      "cell_type": "markdown",
      "source": [
        "### Section 2.1: Text Processing\n",
        "\n",
        "**Handling Sequence Boundaries:**\n",
        "\n",
        "The N-gram formula $P(w_1, w_2, \\ldots, w_n) = \\prod_{k=1}^{n}P(w_k \\mid w_{k-1})$ presents a boundary condition problem.\n",
        "\n",
        "**The problem:**\n",
        "- When $k = 1$, we get $P(w_1 | w_0)$ where $w_0$ does not exist\n",
        "- For trigram models, we encounter terms like $P(w_1 | w_{-1}, w_0)$ and $P(w_2 | w_0, w_1)$ that reference non-existent words\n",
        "\n",
        "**The solution:**\n",
        "Add $N-1$ start-of-sequence tokens `<sos>` to the beginning of each sequence.\n",
        "\n",
        "**Example:**\n",
        "- Original sequence: \"To be or not to be\"\n",
        "- For bigrams: \"`<sos>` To be or not to be\"\n",
        "- For trigrams: \"`<sos> <sos>` To be or not to be\"\n",
        "\n",
        "This ensures every word has sufficient context for N-gram probability calculations.\n"
      ],
      "metadata": {
        "id": "z0BT-I0Qwvfo"
      }
    },
    {
      "cell_type": "code",
      "source": [
        "#TO-FILL section\n",
        "def process_Ngram(sents: List[str], N: int = 2) -> List[str]:\n",
        "    \"\"\"\n",
        "    Adds N-1 <sos> tokens to the start of every sentence.\n",
        "\n",
        "    Parameters:\n",
        "        - sents: List of input sentences\n",
        "        - N: N-gram size\n",
        "\n",
        "    Returns:\n",
        "        - List of processed sentences with <sos> prepended\n",
        "    \"\"\"\n",
        "    processed_sents = []\n",
        "    sos_tokens = \" \".join([\"<sos>\"] * (N - 1))\n",
        "    for sent in sents:\n",
        "        if N > 1:\n",
        "            processed_sents.append(f\"{sos_tokens} {sent}\")\n",
        "        else:\n",
        "            processed_sents.append(sent)\n",
        "    return processed_sents"
      ],
      "metadata": {
        "id": "GNfcdbRGvJ3s"
      },
      "execution_count": null,
      "outputs": []
    },
    {
      "cell_type": "code",
      "source": [
        "# Sample test cases\n",
        "\n",
        "def test_process_text_for_Ngram():\n",
        "\n",
        "    sents = [\"Many years later , as he faced the firing squad , Colonel Aureliano Buendía was to remember that distant afternoon when his father took him to discover ice .\",\n",
        "    \"At that time Macondo was a village of twenty adobe houses, built on the bank of a river of clear water that ran along a bed of polished stones, which were white and enormous, like prehistoric eggs .\",\n",
        "    \"The world was so recent that many things lacked names, and in order to indicate them it was necessary to point .\" ]\n",
        "\n",
        "    print(\"Running Sample Test Case 1 with N=1\")\n",
        "    unigram_processed_text = process_Ngram(sents, 1)\n",
        "    excepted_output = [\n",
        "        \"Many years later , as he faced the firing squad , Colonel Aureliano Buendía was to remember that distant afternoon when his father took him to discover ice .\",\n",
        "        \"At that time Macondo was a village of twenty adobe houses, built on the bank of a river of clear water that ran along a bed of polished stones, which were white and enormous, like prehistoric eggs .\",\n",
        "        \"The world was so recent that many things lacked names, and in order to indicate them it was necessary to point .\"\n",
        "    ]\n",
        "    evaluate_test_case(sents, unigram_processed_text, excepted_output)\n",
        "\n",
        "    print(\"Running Sample Test Case 2 with N=2\")\n",
        "    bigram_processed_text = process_Ngram(sents, 2)\n",
        "    excepted_output = [\n",
        "        \"<sos> Many years later , as he faced the firing squad , Colonel Aureliano Buendía was to remember that distant afternoon when his father took him to discover ice .\",\n",
        "        \"<sos> At that time Macondo was a village of twenty adobe houses, built on the bank of a river of clear water that ran along a bed of polished stones, which were white and enormous, like prehistoric eggs .\",\n",
        "        \"<sos> The world was so recent that many things lacked names, and in order to indicate them it was necessary to point .\"\n",
        "    ]\n",
        "    evaluate_test_case(sents, bigram_processed_text, excepted_output)\n",
        "\n",
        "    print(\"Running Sample Test Case 3 with N=3\")\n",
        "    trigram_processed_text = process_Ngram(sents, 3)\n",
        "    excepted_output = [\n",
        "        \"<sos> <sos> Many years later , as he faced the firing squad , Colonel Aureliano Buendía was to remember that distant afternoon when his father took him to discover ice .\",\n",
        "        \"<sos> <sos> At that time Macondo was a village of twenty adobe houses, built on the bank of a river of clear water that ran along a bed of polished stones, which were white and enormous, like prehistoric eggs .\",\n",
        "        \"<sos> <sos> The world was so recent that many things lacked names, and in order to indicate them it was necessary to point .\"\n",
        "    ]\n",
        "    evaluate_test_case(sents, trigram_processed_text, excepted_output)\n",
        "\n",
        "    print(\"Running Sample Test Case 4 with N=4\")\n",
        "    fourgram_processed_text = process_Ngram(sents, 4)\n",
        "    excepted_output = [\n",
        "        \"<sos> <sos> <sos> Many years later , as he faced the firing squad , Colonel Aureliano Buendía was to remember that distant afternoon when his father took him to discover ice .\",\n",
        "        \"<sos> <sos> <sos> At that time Macondo was a village of twenty adobe houses, built on the bank of a river of clear water that ran along a bed of polished stones, which were white and enormous, like prehistoric eggs .\",\n",
        "        \"<sos> <sos> <sos> The world was so recent that many things lacked names, and in order to indicate them it was necessary to point .\"\n",
        "    ]\n",
        "    evaluate_test_case(sents, fourgram_processed_text, excepted_output)\n",
        "\n"
      ],
      "metadata": {
        "id": "naOaPF9yy8jX"
      },
      "execution_count": null,
      "outputs": []
    },
    {
      "cell_type": "code",
      "source": [
        "test_process_text_for_Ngram()"
      ],
      "metadata": {
        "id": "bl4tBuCjz_7-",
        "colab": {
          "base_uri": "https://localhost:8080/"
        },
        "outputId": "db6dd7fa-e916-4387-d770-b7eaf51ce465"
      },
      "execution_count": null,
      "outputs": [
        {
          "output_type": "stream",
          "name": "stdout",
          "text": [
            "Running Sample Test Case 1 with N=1\n",
            "Input:\n",
            " ['Many years later , as he faced the firing squad , Colonel Aureliano Buendía was to remember that distant afternoon when his father took him to discover ice .', 'At that time Macondo was a village of twenty adobe houses, built on the bank of a river of clear water that ran along a bed of polished stones, which were white and enormous, like prehistoric eggs .', 'The world was so recent that many things lacked names, and in order to indicate them it was necessary to point .']\n",
            "Output:\n",
            " ['Many years later , as he faced the firing squad , Colonel Aureliano Buendía was to remember that distant afternoon when his father took him to discover ice .', 'At that time Macondo was a village of twenty adobe houses, built on the bank of a river of clear water that ran along a bed of polished stones, which were white and enormous, like prehistoric eggs .', 'The world was so recent that many things lacked names, and in order to indicate them it was necessary to point .']\n",
            "Expected Output:\n",
            " ['Many years later , as he faced the firing squad , Colonel Aureliano Buendía was to remember that distant afternoon when his father took him to discover ice .', 'At that time Macondo was a village of twenty adobe houses, built on the bank of a river of clear water that ran along a bed of polished stones, which were white and enormous, like prehistoric eggs .', 'The world was so recent that many things lacked names, and in order to indicate them it was necessary to point .']\n",
            "Test case passed! :)\n",
            "\n",
            "==================================================\n",
            "\n",
            "Running Sample Test Case 2 with N=2\n",
            "Input:\n",
            " ['Many years later , as he faced the firing squad , Colonel Aureliano Buendía was to remember that distant afternoon when his father took him to discover ice .', 'At that time Macondo was a village of twenty adobe houses, built on the bank of a river of clear water that ran along a bed of polished stones, which were white and enormous, like prehistoric eggs .', 'The world was so recent that many things lacked names, and in order to indicate them it was necessary to point .']\n",
            "Output:\n",
            " ['<sos> Many years later , as he faced the firing squad , Colonel Aureliano Buendía was to remember that distant afternoon when his father took him to discover ice .', '<sos> At that time Macondo was a village of twenty adobe houses, built on the bank of a river of clear water that ran along a bed of polished stones, which were white and enormous, like prehistoric eggs .', '<sos> The world was so recent that many things lacked names, and in order to indicate them it was necessary to point .']\n",
            "Expected Output:\n",
            " ['<sos> Many years later , as he faced the firing squad , Colonel Aureliano Buendía was to remember that distant afternoon when his father took him to discover ice .', '<sos> At that time Macondo was a village of twenty adobe houses, built on the bank of a river of clear water that ran along a bed of polished stones, which were white and enormous, like prehistoric eggs .', '<sos> The world was so recent that many things lacked names, and in order to indicate them it was necessary to point .']\n",
            "Test case passed! :)\n",
            "\n",
            "==================================================\n",
            "\n",
            "Running Sample Test Case 3 with N=3\n",
            "Input:\n",
            " ['Many years later , as he faced the firing squad , Colonel Aureliano Buendía was to remember that distant afternoon when his father took him to discover ice .', 'At that time Macondo was a village of twenty adobe houses, built on the bank of a river of clear water that ran along a bed of polished stones, which were white and enormous, like prehistoric eggs .', 'The world was so recent that many things lacked names, and in order to indicate them it was necessary to point .']\n",
            "Output:\n",
            " ['<sos> <sos> Many years later , as he faced the firing squad , Colonel Aureliano Buendía was to remember that distant afternoon when his father took him to discover ice .', '<sos> <sos> At that time Macondo was a village of twenty adobe houses, built on the bank of a river of clear water that ran along a bed of polished stones, which were white and enormous, like prehistoric eggs .', '<sos> <sos> The world was so recent that many things lacked names, and in order to indicate them it was necessary to point .']\n",
            "Expected Output:\n",
            " ['<sos> <sos> Many years later , as he faced the firing squad , Colonel Aureliano Buendía was to remember that distant afternoon when his father took him to discover ice .', '<sos> <sos> At that time Macondo was a village of twenty adobe houses, built on the bank of a river of clear water that ran along a bed of polished stones, which were white and enormous, like prehistoric eggs .', '<sos> <sos> The world was so recent that many things lacked names, and in order to indicate them it was necessary to point .']\n",
            "Test case passed! :)\n",
            "\n",
            "==================================================\n",
            "\n",
            "Running Sample Test Case 4 with N=4\n",
            "Input:\n",
            " ['Many years later , as he faced the firing squad , Colonel Aureliano Buendía was to remember that distant afternoon when his father took him to discover ice .', 'At that time Macondo was a village of twenty adobe houses, built on the bank of a river of clear water that ran along a bed of polished stones, which were white and enormous, like prehistoric eggs .', 'The world was so recent that many things lacked names, and in order to indicate them it was necessary to point .']\n",
            "Output:\n",
            " ['<sos> <sos> <sos> Many years later , as he faced the firing squad , Colonel Aureliano Buendía was to remember that distant afternoon when his father took him to discover ice .', '<sos> <sos> <sos> At that time Macondo was a village of twenty adobe houses, built on the bank of a river of clear water that ran along a bed of polished stones, which were white and enormous, like prehistoric eggs .', '<sos> <sos> <sos> The world was so recent that many things lacked names, and in order to indicate them it was necessary to point .']\n",
            "Expected Output:\n",
            " ['<sos> <sos> <sos> Many years later , as he faced the firing squad , Colonel Aureliano Buendía was to remember that distant afternoon when his father took him to discover ice .', '<sos> <sos> <sos> At that time Macondo was a village of twenty adobe houses, built on the bank of a river of clear water that ran along a bed of polished stones, which were white and enormous, like prehistoric eggs .', '<sos> <sos> <sos> The world was so recent that many things lacked names, and in order to indicate them it was necessary to point .']\n",
            "Test case passed! :)\n",
            "\n",
            "==================================================\n",
            "\n"
          ]
        }
      ]
    },
    {
      "cell_type": "markdown",
      "source": [
        "# N-gram Language Model Implementation\n",
        "\n",
        "## Overview\n",
        "\n",
        "Implement an N-gram language model by estimating conditional distributions:\n",
        "\n",
        "$P(w_n \\mid w_{n-N-1}, \\cdots, w_{n-1}) = \\frac{C(w_{n-N-1} \\cdots w_{n-1} w_{n})}{C(w_{n-N-1} \\cdots w_{n-1})}$\n",
        "\n",
        "where $C(\\cdot)$ represents n-gram counts from the corpus.\n",
        "\n",
        "## Requirements\n",
        "\n",
        "Implement the `NGramLM` class with three functions:\n",
        "\n",
        "1. **`fit`** - Compute n-gram counts from training data\n",
        "2. **`evaluate`** - Evaluate model on test data  \n",
        "3. **`sampling`** - Generate text using the language model\n",
        "\n",
        "\n",
        "-Begin with bigram model, then generalize to n-grams\n"
      ],
      "metadata": {
        "id": "-FYFaOzY0xT5"
      }
    },
    {
      "cell_type": "code",
      "source": [
        "#To-Fill section\n",
        "\n",
        "class NGramLM:\n",
        "  def __init__(self, N: int):\n",
        "        self.N = N\n",
        "        self.vocab = set()\n",
        "        self.ngram_counts = defaultdict(Counter)\n",
        "        self.context_counts = Counter()\n",
        "\n",
        "\n",
        "  def fit(self, train_data: List[str]):\n",
        "        \"\"\"\n",
        "        Trains an N-gram language model.\n",
        "        Args:\n",
        "            - train_data: List[str], sentences in the training data\n",
        "\n",
        "        Note:\n",
        "        1. Process sentences to add <sos> tokens\n",
        "        2. Build vocabulary and count n-grams.Add <unk> to vocabulary\n",
        "        3. Count N-grams and contexts\n",
        "\n",
        "        \"\"\"\n",
        "\n",
        "        processed_data = process_Ngram(train_data, self.N)\n",
        "        all_words = \" \".join(processed_data).split()\n",
        "        self.vocab = set(all_words)\n",
        "\n",
        "        for sentence in processed_data:\n",
        "            words = sentence.split()\n",
        "            for i in range(len(words) - self.N + 1):\n",
        "                ngram = tuple(words[i : i + self.N])\n",
        "                context = tuple(words[i : i + self.N - 1])\n",
        "                self.ngram_counts[context][ngram[-1]] += 1\n",
        "                self.context_counts[context] += 1\n",
        "\n",
        "\n",
        "\n",
        "\n",
        "  def evaluate(self, data: List[str]) -> float:\n",
        "        \"\"\"\n",
        "        Evaluates the perplexity of the N-gram language model on the eval set.\n",
        "        Input:\n",
        "            - data: List[str], the evaluation text\n",
        "        Output:\n",
        "            - float, the perplexity of the model on the evaluation set\n",
        "        For words that are not in the vocabulary, replace them with the <unk> token.\n",
        "        \"\"\"\n",
        "        processed_data = process_Ngram(data, self.N)\n",
        "        total_log_likelihood = 0.0\n",
        "        total_words = 0\n",
        "\n",
        "        for sentence in processed_data:\n",
        "            words = sentence.split()\n",
        "            for i in range(self.N - 1, len(words)):\n",
        "                context = tuple(words[i - self.N + 1 : i])\n",
        "                word = words[i]\n",
        "\n",
        "                if word not in self.vocab:\n",
        "                    word = \"<unk>\"\n",
        "\n",
        "                if context not in self.context_counts or word not in self.ngram_counts[context]:\n",
        "                    return (-math.inf, math.inf)\n",
        "\n",
        "                probability = self.ngram_counts[context][word] / self.context_counts[context]\n",
        "                total_log_likelihood += math.log(probability)\n",
        "                total_words += 1\n",
        "\n",
        "        avg_log_likelihood = total_log_likelihood / total_words\n",
        "        perplexity = math.exp(-avg_log_likelihood)\n",
        "\n",
        "        return avg_log_likelihood, perplexity\n",
        "\n",
        "\n",
        "  def sampling(self, prefix: str = \"<sos>\", max_words: int = 100) -> str:\n",
        "        \"\"\"\n",
        "        Samples text from the N-gram language model.\n",
        "        Terminate sampling when either max_words is reached or when <eos> token is sampled.\n",
        "        Args:\n",
        "            - prefix: str, the prefix to start the sampling from. Can also be multiple words separated by spaces.\n",
        "            - max_words: int, the maximum number of words to sample\n",
        "        Returns:\n",
        "            - str, the sampled text\n",
        "        Note: Please use np.random.choice for sampling next words\n",
        "        \"\"\"\n",
        "        sampled_words = prefix.split()\n",
        "\n",
        "        # Add necessary <sos> tokens to the beginning of the prefix\n",
        "        if self.N > 1:\n",
        "            needed_sos = self.N - 1 - len(sampled_words)\n",
        "            if needed_sos > 0:\n",
        "                sampled_words = [\"<sos>\"] * needed_sos + sampled_words\n",
        "\n",
        "        generated_words = []\n",
        "        # Start generating after the prefix\n",
        "        for _ in range(max_words):\n",
        "            context = tuple(sampled_words[-(self.N - 1):])\n",
        "            next_word_counts = self.ngram_counts.get(context, None)\n",
        "\n",
        "            if not next_word_counts:\n",
        "                # If context not seen, sample from unigram distribution (or <unk>)\n",
        "                # For simplicity here, we'll break or sample <unk>\n",
        "                if \"<unk>\" in self.vocab:\n",
        "                  next_word = \"<unk>\"\n",
        "                else:\n",
        "                  break # Cannot sample if no context and no unk\n",
        "\n",
        "            else:\n",
        "                words = list(next_word_counts.keys())\n",
        "                probabilities = list(next_word_counts.values())\n",
        "                total_count = sum(probabilities)\n",
        "                probabilities = [p / total_count for p in probabilities]\n",
        "                next_word = np.random.choice(words, p=probabilities)\n",
        "\n",
        "\n",
        "            sampled_words.append(next_word)\n",
        "            generated_words.append(next_word) # Keep track of only generated words\n",
        "\n",
        "            if next_word == \"<eos>\":\n",
        "                break\n",
        "\n",
        "        # Return the original prefix followed by the generated words\n",
        "        return prefix + \" \" + \" \".join(generated_words)"
      ],
      "metadata": {
        "id": "xIC-rJWm0tg5"
      },
      "execution_count": null,
      "outputs": []
    },
    {
      "cell_type": "markdown",
      "source": [
        "**Sanity Check:**\n",
        "Verify that your N-gram implementation works correctly by setting N=1 and confirming it produces the same perplexities as your unigram model from earlier exercises."
      ],
      "metadata": {
        "id": "x18PgfCS1zwj"
      }
    },
    {
      "cell_type": "code",
      "source": [
        "unigram_lm = NGramLM(1)\n",
        "unigram_lm.fit(train_data)\n",
        "\n",
        "train_ll,train_ppl = unigram_lm.evaluate(train_data)\n",
        "dev_ll,dev_ppl = unigram_lm.evaluate(dev_data)\n",
        "print(f\" Unigram model : Train Perplexity {train_ppl}, Train likelihood {train_ll}\")\n",
        "print(f\" Unigram model : dev Perplexity {dev_ppl}, dev likelihood {dev_ll}\")\n",
        "\n",
        "train_ll_old,train_ppl = eval_likelihood_word_unigram_unk(train_data, unigram_probs_wth_unks)\n",
        "dev_ll_old,dev_ppl = eval_likelihood_word_unigram_unk(dev_data, unigram_probs_wth_unks)\n",
        "\n",
        "print(f\" Unigram model(earlier) : Train Perplexity {train_ppl}, Train loglikelihood {train_ll_old}\")\n",
        "print(f\" Unigram model (earlier): dev Perplexity {dev_ppl}, dev loglikelihood {dev_ll_old}\")\n",
        "\n",
        "if np.allclose(train_ll, train_ll_old, atol = 1e-4) and np.allclose(dev_ll, dev_ll_old, atol = 1e-4):\n",
        "    print(\"Unigram model perplexities match! :)\")\n",
        "\n",
        "else:\n",
        "    print(\"Unigram model perplexities do not match! :(\")"
      ],
      "metadata": {
        "id": "D5L2P2YHEXaL",
        "colab": {
          "base_uri": "https://localhost:8080/"
        },
        "outputId": "ab8af1e3-4ab6-4a3b-88e1-31e6229c7421"
      },
      "execution_count": null,
      "outputs": [
        {
          "output_type": "stream",
          "name": "stdout",
          "text": [
            " Unigram model : Train Perplexity 384.0815655120125, Train likelihood -5.9508549402194095\n",
            " Unigram model : dev Perplexity 282.0959070802668, dev likelihood -5.642247109147883\n",
            " Unigram model(earlier) : Train Perplexity 384.0815655120125, Train loglikelihood -5.9508549402194095\n",
            " Unigram model (earlier): dev Perplexity 282.0959070802668, dev loglikelihood -5.642247109147883\n",
            "Unigram model perplexities match! :)\n"
          ]
        }
      ]
    },
    {
      "cell_type": "markdown",
      "source": [
        "Lets do it for BIGRAM!!!"
      ],
      "metadata": {
        "id": "6YsU6HFSZiON"
      }
    },
    {
      "cell_type": "code",
      "source": [
        "bigram_lm = NGramLM(2)\n",
        "bigram_lm.fit(train_data)\n",
        "train_ll,train_ppl = bigram_lm.evaluate(train_data)\n",
        "\n",
        "dev_ll,dev_ppl = bigram_lm.evaluate(dev_data)\n",
        "print(f\" bigram model : Train Perplexity {train_ppl}, Train loglikelihood {train_ll}\")\n",
        "print(f\" bigram model : dev Perplexity {dev_ppl}, dev loglikelihood {dev_ll}\")"
      ],
      "metadata": {
        "id": "OL6VELgFKb5m",
        "colab": {
          "base_uri": "https://localhost:8080/"
        },
        "outputId": "e13f837a-feca-4e5b-af43-d66f866a9307"
      },
      "execution_count": null,
      "outputs": [
        {
          "output_type": "stream",
          "name": "stdout",
          "text": [
            " bigram model : Train Perplexity 42.128332262041745, Train loglikelihood -3.7407204896873822\n",
            " bigram model : dev Perplexity inf, dev loglikelihood -inf\n"
          ]
        }
      ]
    },
    {
      "cell_type": "markdown",
      "source": [
        "**Observation check**\n",
        "You should observe a train perplexity of atmost 43 and a dev perplexity of infinity. We will address the infinite dev perplexity issue in upcoming sections. ANYthing beyond 43 requires double check your code.\n",
        "\n",
        "\n"
      ],
      "metadata": {
        "id": "-XNboUQt03KK"
      }
    },
    {
      "cell_type": "code",
      "source": [
        "trigram_lm = NGramLM(3)\n",
        "trigram_lm.fit(train_data)\n",
        "train_ll,train_ppl = trigram_lm.evaluate(train_data)\n",
        "\n",
        "dev_ll,dev_ppl = trigram_lm.evaluate(dev_data)\n",
        "print(f\" trigram model : Train Perplexity {train_ppl}, Train loglikelihood {train_ll}\")\n",
        "print(f\" trigram model : dev Perplexity {dev_ppl}, dev loglikelihood {dev_ll}\")\n",
        "\n",
        "\n",
        "\n",
        "fourgram_lm = NGramLM(4)\n",
        "fourgram_lm.fit(train_data)\n",
        "train_ll,train_ppl = fourgram_lm.evaluate(train_data)\n",
        "\n",
        "dev_ll,dev_ppl = bigram_lm.evaluate(dev_data)\n",
        "print(f\" fourgram model : Train Perplexity {train_ppl}, Train loglikelihood {train_ll}\")\n",
        "print(f\" fourgram model : dev Perplexity {dev_ppl}, dev loglikelihood {dev_ll}\")\n",
        "\n",
        "\n",
        "\n",
        "fivegram_lm = NGramLM(5)\n",
        "fivegram_lm.fit(train_data)\n",
        "train_ll,train_ppl = fivegram_lm.evaluate(train_data)\n",
        "\n",
        "dev_ll,dev_ppl = fivegram_lm.evaluate(dev_data)\n",
        "print(f\" fivegram model : Train Perplexity {train_ppl}, Train loglikelihood {train_ll}\")\n",
        "print(f\" fivegram model : dev Perplexity {dev_ppl}, dev loglikelihood {dev_ll}\")"
      ],
      "metadata": {
        "id": "HPlDQaYDbcv-",
        "colab": {
          "base_uri": "https://localhost:8080/"
        },
        "outputId": "5e8ccf20-6e62-42b4-99e7-648cfcd7ebba"
      },
      "execution_count": null,
      "outputs": [
        {
          "output_type": "stream",
          "name": "stdout",
          "text": [
            " trigram model : Train Perplexity 5.939635966646537, Train loglikelihood -1.781647846420206\n",
            " trigram model : dev Perplexity inf, dev loglikelihood -inf\n",
            " fourgram model : Train Perplexity 2.0705701088539454, Train loglikelihood -0.7278239842628427\n",
            " fourgram model : dev Perplexity inf, dev loglikelihood -inf\n",
            " fivegram model : Train Perplexity 1.595255728780846, Train loglikelihood -0.4670340549091241\n",
            " fivegram model : dev Perplexity inf, dev loglikelihood -inf\n"
          ]
        }
      ]
    },
    {
      "cell_type": "markdown",
      "source": [
        "You should see train perplexities atmost 6, 3, and 2 for trigram, 4-gram, and 5-gram LMs. For dev data the dev perplexity should be infinity for all the three.\n",
        "\n",
        " beyond that require correction in the code"
      ],
      "metadata": {
        "id": "2E-K207d3N7X"
      }
    },
    {
      "cell_type": "code",
      "source": [
        "def test_sample_text_ngram():\n",
        "\n",
        "    print(\"Testing for Trigram model\")\n",
        "\n",
        "    random.seed(42)\n",
        "    np.random.seed(42)\n",
        "    trigram_lm = NGramLM(3)\n",
        "    trigram_lm.fit(train_data)\n",
        "    sampled_text = trigram_lm.sampling(\"<sos> <sos>\", max_words=50)\n",
        "\n",
        "    print(\"Test Case 1: Check if the sampled text starts with <sos> <sos>\")\n",
        "    evaluate_test_case(None, sampled_text.startswith(\"<sos> <sos>\"), True, output_str=\"Sampled text starts with <sos> <sos>\")\n",
        "\n",
        "    print(\"Test Case 2: Check if the number of generated words is either 50 or less than 50 and ends with <eos>\")\n",
        "    print(f\"Generated text: {sampled_text}\")\n",
        "    print(f\"Number of generated words: {len(sampled_text.split()) - 2}\")\n",
        "    print(f\"Does the generated text end with <eos>: {'<eos>' in sampled_text}\")\n",
        "    if len(sampled_text.split()) - 2 == 50 or (\n",
        "        len(sampled_text.split()) - 2 < 50 and \"<eos>\" in sampled_text\n",
        "    ):\n",
        "        print(\"Test passed! :)\")\n",
        "    else:\n",
        "        print(\"Test failed! :(\")\n",
        "\n",
        "    print(\"\\n\" + \"=\"*50 + \"\\n\")\n",
        "\n",
        "    print(\"Test Case 3: Check if the probability of generating II is greater than III when prefix is KING RICHARD\")\n",
        "    sampled_texts = [\n",
        "        trigram_lm.sampling(\"KING RICHARD\", max_words=1) for _ in range(10000)\n",
        "    ]\n",
        "    sampled_text = \" \".join(sampled_texts)\n",
        "    num_richard_2s = [\n",
        "        text.split(\"KING RICHARD\")[1].strip() == \"II\" for text in sampled_texts\n",
        "    ].count(True)\n",
        "    num_richard_3s = [\n",
        "        text.split(\"KING RICHARD\")[1].strip() == \"III\" for text in sampled_texts\n",
        "    ].count(True)\n",
        "\n",
        "    gen_prob_richard_2 = num_richard_2s / len(sampled_texts)\n",
        "    gen_prob_richard_3 = num_richard_3s / len(sampled_texts)\n",
        "\n",
        "    print(f\"Probability of generating Richard II: {gen_prob_richard_2}\")\n",
        "    print(f\"Probability of generating Richard III: {gen_prob_richard_3}\")\n",
        "    if gen_prob_richard_2 < gen_prob_richard_3:\n",
        "        print(\"Test passed! :)\")\n",
        "    else:\n",
        "        print(\"Test failed! :(\")\n",
        "\n",
        "    print(\"\\n\" + \"=\"*50 + \"\\n\")\n",
        "\n",
        "    print(\"Test Case 4: Check if the probability of generating II given KING RICHARD are close to the expected values\")\n",
        "    evaluate_test_case(\"King Richard II\", gen_prob_richard_2, 0.4229, output_str=\"Probability of generating Richard II\", atol=1e-2)\n",
        "\n",
        "    print(\"Test Case 5: Check if the probability of generating III given KING RICHARD are close to the expected values\")\n",
        "    evaluate_test_case(\"King Richard III\", gen_prob_richard_3, 0.5771, output_str=\"Probability of generating Richard III\", atol=1e-2)\n",
        "\n",
        "    print(\"Testing for 4-gram model\")\n",
        "    random.seed(42)\n",
        "    np.random.seed(42)\n",
        "    fourgram_lm = NGramLM(4)\n",
        "    fourgram_lm.fit(train_data_wth_unks)\n",
        "    sampled_text = fourgram_lm.sampling(\"<sos> <sos>\", max_words=50)\n",
        "\n",
        "    sampled_text = fourgram_lm.sampling(\"<sos> <sos> <sos>\", max_words=50)\n",
        "\n",
        "    print(\"Test Case 6: Check if the sampled text starts with <sos> <sos> <sos>\")\n",
        "    evaluate_test_case(None, sampled_text.startswith(\"<sos> <sos> <sos>\"), True, output_str=\"Sampled text starts with <sos> <sos> <sos>\")\n",
        "\n",
        "    print(\"Test Case 7: Check if the number of generated words is either 50 or less than 50 and ends with <eos>\")\n",
        "    print(f\"Generated text: {sampled_text}\")\n",
        "    print(f\"Number of generated words: {len(sampled_text.split()) - 3}\")\n",
        "    print(f\"Does the generated text end with <eos>: {'<eos>' in sampled_text}\")\n",
        "    if len(sampled_text.split()) - 3 == 50 or (\n",
        "        len(sampled_text.split()) - 3 < 50 and \"<eos>\" in sampled_text\n",
        "    ):\n",
        "        print(\"Test passed! :)\")\n",
        "\n",
        "    else:\n",
        "        print(\"Test failed! :(\")\n",
        "\n",
        "    print(\"\\n\" + \"=\"*50 + \"\\n\")\n",
        "\n",
        "    print(\"Test Case 8: Check if the probability of generating II is greater than III when prefix is <sos> KING RICHARD\")\n",
        "    sampled_texts = [\n",
        "        fourgram_lm.sampling(\"<sos> <sos> KING RICHARD\", max_words=1) for _ in range(10000)\n",
        "    ]\n",
        "    sampled_text = \" \".join(sampled_texts)\n",
        "    num_richard_2s = [\n",
        "        text.split(\"<sos> <sos> KING RICHARD\")[1].strip() == \"II\" for text in sampled_texts\n",
        "    ].count(True)\n",
        "\n",
        "    num_richard_3s = [\n",
        "        text.split(\"<sos> <sos> KING RICHARD\")[1].strip() == \"III\" for text in sampled_texts\n",
        "    ].count(True)\n",
        "\n",
        "    gen_prob_rich2 = num_richard_2s / len(sampled_texts)\n",
        "    gen_prob_rich3 = num_richard_3s / len(sampled_texts)\n",
        "\n",
        "    print(f\"Probability of generating Richard II: {gen_prob_rich2}\")\n",
        "    print(f\"Probability of generating Richard III: {gen_prob_rich3}\")\n",
        "    if gen_prob_rich2 < gen_prob_rich3:\n",
        "        print(\"Test passed! :)\")\n",
        "    else:\n",
        "        print(\"Test failed! :(\")\n",
        "\n",
        "    print(\"\\n\" + \"=\"*50 + \"\\n\")\n",
        "\n",
        "    print(\"Test Case 9: Check if the probability of generating II given <sos> KING RICHARD are close to the expected values\")\n",
        "    evaluate_test_case(\"<sos> King Richard II\", gen_prob_rich2, 0.4229, output_str=\"Probability of generating Richard II\", atol=1e-2)\n",
        "\n",
        "    print(\"Test Case 10: Check if the probability of generating III given <sos> KING RICHARD are close to the expected values\")\n",
        "    evaluate_test_case(\"<sos> King Richard III\", gen_prob_rich3, 0.5771, output_str=\"Probability of generating Richard III\", atol=1e-2)\n",
        "\n",
        "test_sample_text_ngram()"
      ],
      "metadata": {
        "id": "Kd3SdMUgdQLS",
        "colab": {
          "base_uri": "https://localhost:8080/"
        },
        "outputId": "1e4d4698-f985-48d2-8623-ffbc8b07de45"
      },
      "execution_count": null,
      "outputs": [
        {
          "output_type": "stream",
          "name": "stdout",
          "text": [
            "Testing for Trigram model\n",
            "Test Case 1: Check if the sampled text starts with <sos> <sos>\n",
            "Sampled text starts with <sos> <sos>:\n",
            " True\n",
            "Expected Sampled text starts with <sos> <sos>:\n",
            " True\n",
            "Test case passed! :)\n",
            "\n",
            "==================================================\n",
            "\n",
            "Test Case 2: Check if the number of generated words is either 50 or less than 50 and ends with <eos>\n",
            "Generated text: <sos> <sos> Please your honour , state and seat is up on high ; Whilst you have been i ' the part I had a Harry , Harry , <unk> to you both ! <eos>\n",
            "Number of generated words: 33\n",
            "Does the generated text end with <eos>: True\n",
            "Test passed! :)\n",
            "\n",
            "==================================================\n",
            "\n",
            "Test Case 3: Check if the probability of generating II is greater than III when prefix is KING RICHARD\n",
            "Probability of generating Richard II: 0.4052\n",
            "Probability of generating Richard III: 0.5948\n",
            "Test passed! :)\n",
            "\n",
            "==================================================\n",
            "\n",
            "Test Case 4: Check if the probability of generating II given KING RICHARD are close to the expected values\n",
            "Input:\n",
            " King Richard II\n",
            "Probability of generating Richard II:\n",
            " 0.4052\n",
            "Expected Probability of generating Richard II:\n",
            " 0.4229\n",
            "Test case failed! :(\n",
            "\n",
            "==================================================\n",
            "\n",
            "Test Case 5: Check if the probability of generating III given KING RICHARD are close to the expected values\n",
            "Input:\n",
            " King Richard III\n",
            "Probability of generating Richard III:\n",
            " 0.5948\n",
            "Expected Probability of generating Richard III:\n",
            " 0.5771\n",
            "Test case failed! :(\n",
            "\n",
            "==================================================\n",
            "\n",
            "Testing for 4-gram model\n",
            "Test Case 6: Check if the sampled text starts with <sos> <sos> <sos>\n",
            "Sampled text starts with <sos> <sos> <sos>:\n",
            " True\n",
            "Expected Sampled text starts with <sos> <sos> <sos>:\n",
            " True\n",
            "Test case passed! :)\n",
            "\n",
            "==================================================\n",
            "\n",
            "Test Case 7: Check if the number of generated words is either 50 or less than 50 and ends with <eos>\n",
            "Generated text: <sos> <sos> <sos> <unk> is banished , ' to his wife and daughters ; County <unk> and his lovely <unk> ; Mercutio and his brother <unk> ; mine uncle Capulet , his wife another ; and , as I said , the duke shall know how <unk> thou art ! <eos>\n",
            "Number of generated words: 48\n",
            "Does the generated text end with <eos>: True\n",
            "Test passed! :)\n",
            "\n",
            "==================================================\n",
            "\n",
            "Test Case 8: Check if the probability of generating II is greater than III when prefix is <sos> KING RICHARD\n",
            "Probability of generating Richard II: 0.405\n",
            "Probability of generating Richard III: 0.595\n",
            "Test passed! :)\n",
            "\n",
            "==================================================\n",
            "\n",
            "Test Case 9: Check if the probability of generating II given <sos> KING RICHARD are close to the expected values\n",
            "Input:\n",
            " <sos> King Richard II\n",
            "Probability of generating Richard II:\n",
            " 0.405\n",
            "Expected Probability of generating Richard II:\n",
            " 0.4229\n",
            "Test case failed! :(\n",
            "\n",
            "==================================================\n",
            "\n",
            "Test Case 10: Check if the probability of generating III given <sos> KING RICHARD are close to the expected values\n",
            "Input:\n",
            " <sos> King Richard III\n",
            "Probability of generating Richard III:\n",
            " 0.595\n",
            "Expected Probability of generating Richard III:\n",
            " 0.5771\n",
            "Test case failed! :(\n",
            "\n",
            "==================================================\n",
            "\n"
          ]
        }
      ]
    },
    {
      "cell_type": "code",
      "source": [
        "np.random.seed(42)\n",
        "print(\"Generations from Trigram model\")\n",
        "for _ in range(20):\n",
        "    sampled_text = trigram_lm.sampling(\"<sos> <sos> KING\", max_words=50)\n",
        "    print(sampled_text)"
      ],
      "metadata": {
        "id": "qYajf_CW30jR",
        "colab": {
          "base_uri": "https://localhost:8080/"
        },
        "outputId": "4e366bb6-875e-490f-a17b-21636f92ee25"
      },
      "execution_count": null,
      "outputs": [
        {
          "output_type": "stream",
          "name": "stdout",
          "text": [
            "Generations from Trigram model\n",
            "<sos> <sos> KING RICHARD II : I am known to go . <eos>\n",
            "<sos> <sos> KING EDWARD IV : Is it not amiss ; I will to sanctuary . <eos>\n",
            "<sos> <sos> KING RICHARD II : Where <unk> , behold 's : there she lost a brace . <eos>\n",
            "<sos> <sos> KING EDWARD IV : Brave warriors , Clifford , take heed , for Lancaster ! <eos>\n",
            "<sos> <sos> KING HENRY VI : My lord , the fool was that of common soldiers slain . <eos>\n",
            "<sos> <sos> KING EDWARD IV : Go thither ; For this will teach thee how to curse mine enemies ! <eos>\n",
            "<sos> <sos> KING RICHARD III : Say no more hear from you The apprehension of the news abroad ? <eos>\n",
            "<sos> <sos> KING RICHARD II : We have made fault I ' shall poison , go in your city is <unk> 'd out an act of parliament be repeal 'd , Nay , now at my injustice . <eos>\n",
            "<sos> <sos> KING RICHARD III : O Marcius , Attend upon Cominius to these arms , and did scorn an humble tear ; And therefore , not for your country 's foes , to <unk> and <unk> 'd : say it is . <eos>\n",
            "<sos> <sos> KING HENRY VI : Where , he would Have done the time ! <eos>\n",
            "<sos> <sos> KING RICHARD II : Northumberland , his <unk> bride . <eos>\n",
            "<sos> <sos> KING EDWARD IV : Now we have many blasts to shake them ; And where care <unk> , I would not plead , but by Warwick 's other daughter ; till at length have gotten leave To have him hold that purpose and to come to my niece Plantagenet <unk> in\n",
            "<sos> <sos> KING HENRY VI : Be quiet , or next day : It then remains That , to prevent the tyrant from his loins no hopeful branch may spring , I will follow In the main point of death To gaze upon the secrets i n't it had upon its brow A\n",
            "<sos> <sos> KING RICHARD III : Art thou certain this is some changeling : ope n't . <eos>\n",
            "<sos> <sos> KING RICHARD II : So <unk> on a <unk> of warriors , How long is't since ? <eos>\n",
            "<sos> <sos> KING RICHARD III : Come , let 's be brief than tedious . <eos>\n",
            "<sos> <sos> KING HENRY VI : My dagger , and thank you . <eos>\n",
            "<sos> <sos> KING RICHARD III : Ay ; or , by the <unk> . <eos>\n",
            "<sos> <sos> KING EDWARD IV : Why do you think fit to do their amorous rites By their own part , I purpose not to have . <eos>\n",
            "<sos> <sos> KING RICHARD III : Good father , all noble sufferance . <eos>\n"
          ]
        }
      ]
    },
    {
      "cell_type": "markdown",
      "source": [
        "**Observation check**\n",
        "You should see that the generation quality is now better."
      ],
      "metadata": {
        "id": "bDTd6n_G31-Y"
      }
    },
    {
      "cell_type": "markdown",
      "source": [
        "\n",
        "\n",
        "## Problem\n",
        "N-gram models assign zero probability to unseen N-grams in test data, causing infinite perplexity.\n",
        "\n",
        "## Solution: Add-k Smoothing\n",
        "Add-k smoothing redistributes probability mass from frequent to unseen events:\n",
        "\n",
        "$$P_{\\text{Add-k}}(w_n \\mid w_{n-1}) = \\frac{C(w_{n-1}w_n) + k}{C(w_{n-1}) + kV}$$\n",
        "\n",
        "where:\n",
        "- $k$ is the smoothing parameter (k=1 for Laplace/Add-one smoothing)\n",
        "- $V$ is the vocabulary size\n",
        "- $C(\\cdot)$ represents n-gram counts\n",
        "\n",
        "This ensures no zero probabilities while preserving relative frequency patterns.\n",
        "\n",
        "\n",
        "Implement the `Ksmoothing` class following the same structure as `NGramLM`, but modify the conditional probability calculations to include Add-k smoothing."
      ],
      "metadata": {
        "id": "oR3uO4CMlo30"
      }
    },
    {
      "cell_type": "code",
      "source": [
        "#TO-FILL section\n",
        "\n",
        "class Ksmoothing(NGramLM):\n",
        "    def __init__(self, N: int, k: float = 1):\n",
        "        super().__init__(N)\n",
        "        self.k = k\n",
        "        self.V = 0 # Vocabulary size will be set during fit\n",
        "\n",
        "    def fit(self, train_data: List[str]):\n",
        "        \"\"\"\n",
        "        Trains an N-gram language model with Add-k smoothing.\n",
        "\n",
        "        Inputs:\n",
        "            - train_data: str, sentences in the training data\n",
        "\n",
        "        \"\"\"\n",
        "\n",
        "        processed_data = process_Ngram(train_data, self.N)\n",
        "        all_words = \" \".join(processed_data).split()\n",
        "        self.vocab = set(all_words)\n",
        "        self.V = len(self.vocab)\n",
        "\n",
        "        for sentence in processed_data:\n",
        "            words = sentence.split()\n",
        "            for i in range(len(words) - self.N + 1):\n",
        "                ngram = tuple(words[i : i + self.N])\n",
        "                context = tuple(words[i : i + self.N - 1])\n",
        "                self.ngram_counts[context][ngram[-1]] += 1\n",
        "                self.context_counts[context] += 1\n",
        "\n",
        "    def eval_perplexity(self, eval_data: List[str]) -> float:\n",
        "        \"\"\"\n",
        "        Evaluates the perplexity of the N-gram language model with Add-k smoothing on the eval set.\n",
        "\n",
        "        Input:\n",
        "            - eval_data: List[str], the evaluation text\n",
        "\n",
        "        Output:\n",
        "            - float, the perplexity of the model on the evaluation set\n",
        "\n",
        "        Note : For tokens that are not in the vocabulary, replace them with the <unk> token.\n",
        "\n",
        "        \"\"\"\n",
        "        processed_data = process_Ngram(eval_data, self.N)\n",
        "        total_log_likelihood = 0.0\n",
        "        total_words = 0\n",
        "\n",
        "        for sentence in processed_data:\n",
        "            words = sentence.split()\n",
        "            for i in range(self.N - 1, len(words)):\n",
        "                context = tuple(words[i - self.N + 1 : i])\n",
        "                word = words[i]\n",
        "\n",
        "                if word not in self.vocab:\n",
        "                    word = \"<unk>\"\n",
        "\n",
        "                # Calculate smoothed probability\n",
        "                ngram_count = self.ngram_counts.get(context, {}).get(word, 0)\n",
        "                context_count = self.context_counts.get(context, 0)\n",
        "\n",
        "                smoothed_probability = (ngram_count + self.k) / (context_count + self.k * self.V)\n",
        "\n",
        "                total_log_likelihood += math.log(smoothed_probability)\n",
        "                total_words += 1\n",
        "\n",
        "        avg_log_likelihood = total_log_likelihood / total_words\n",
        "        perplexity = math.exp(-avg_log_likelihood)\n",
        "\n",
        "        return perplexity\n",
        "\n",
        "\n",
        "    def sample_text(self, prefix: str = \"<sos>\", max_words: int = 100) -> str:\n",
        "      \"\"\"\n",
        "        Samples text from the N-gram language model.\n",
        "\n",
        "        Args:\n",
        "            - prefix: str, the prefix to start the sampling from. Can also be multiple words separated by spaces.\n",
        "            - max_words: int, the maximum number of words to sample\n",
        "\n",
        "        Return:\n",
        "            - str, the sampled text\n",
        "\n",
        "        Note: Please use np.random.choice for sampling next words\n",
        "      \"\"\"\n",
        "      sampled_words = prefix.split()\n",
        "\n",
        "      # Add necessary <sos> tokens to the beginning of the prefix\n",
        "      if self.N > 1:\n",
        "          needed_sos = self.N - 1 - len(sampled_words)\n",
        "          if needed_sos > 0:\n",
        "              sampled_words = [\"<sos>\"] * needed_sos + sampled_words\n",
        "\n",
        "\n",
        "      generated_words = []\n",
        "      # Start generating after the prefix\n",
        "      for _ in range(max_words):\n",
        "          context = tuple(sampled_words[-(self.N - 1):])\n",
        "\n",
        "          # Get all possible next words from the vocabulary\n",
        "          possible_next_words = list(self.vocab)\n",
        "          probabilities = []\n",
        "          context_count = self.context_counts.get(context, 0)\n",
        "\n",
        "          for next_word in possible_next_words:\n",
        "              ngram_count = self.ngram_counts.get(context, {}).get(next_word, 0)\n",
        "              smoothed_probability = (ngram_count + self.k) / (context_count + self.k * self.V)\n",
        "              probabilities.append(smoothed_probability)\n",
        "\n",
        "          # Normalize probabilities\n",
        "          total_prob = sum(probabilities)\n",
        "          probabilities = [p / total_prob for p in probabilities]\n",
        "\n",
        "\n",
        "          next_word = np.random.choice(possible_next_words, p=probabilities)\n",
        "\n",
        "          sampled_words.append(next_word)\n",
        "          generated_words.append(next_word) # Keep track of only generated words\n",
        "\n",
        "          if next_word == \"<eos>\":\n",
        "              break\n",
        "\n",
        "      # Remove leading <sos> tokens for the final output string\n",
        "      if self.N > 1:\n",
        "        while sampled_words and sampled_words[0] == \"<sos>\":\n",
        "          sampled_words.pop(0)\n",
        "\n",
        "\n",
        "      return \" \".join(sampled_words)"
      ],
      "metadata": {
        "id": "Evld4yWT4a6q"
      },
      "execution_count": null,
      "outputs": []
    },
    {
      "cell_type": "code",
      "source": [
        "bigram_lm = Ksmoothing(2, k = 0.01)\n",
        "bigram_lm.fit(train_data)\n",
        "train_ppl = bigram_lm.eval_perplexity(train_data)\n",
        "print(f\"Train Perplexity: {train_ppl}\")\n",
        "dev_ppl = bigram_lm.eval_perplexity(dev_data)\n",
        "print(f\"Dev Perplexity: {dev_ppl}\")"
      ],
      "metadata": {
        "id": "kZHrGcNYn65o",
        "colab": {
          "base_uri": "https://localhost:8080/"
        },
        "outputId": "95852110-c497-432c-ced8-dcb2678e5a15"
      },
      "execution_count": null,
      "outputs": [
        {
          "output_type": "stream",
          "name": "stdout",
          "text": [
            "Train Perplexity: 60.78600290093535\n",
            "Dev Perplexity: 204.60665290389517\n"
          ]
        }
      ]
    },
    {
      "cell_type": "markdown",
      "source": [
        "**Observation check**\n",
        "Notice that the development set perplexity is no longer ∞! This improvement comes at a cost: the training perplexity increases. This trade-off occurs because smoothing redistributes probability mass from observed N-grams in the training data to unseen N-grams, reducing the model's fit to training data while improving generalization to new text.\n",
        "\n",
        "You should get a train perplexity atmost 61 and dev perplexity atmost 149. beyond that require correction in the code"
      ],
      "metadata": {
        "id": "A518gv-p8lWX"
      }
    },
    {
      "cell_type": "markdown",
      "source": [
        "**Test cases-I**"
      ],
      "metadata": {
        "id": "QKfH-nWg8PhM"
      }
    },
    {
      "cell_type": "code",
      "execution_count": null,
      "metadata": {
        "id": "dGrvAKaVejiy",
        "colab": {
          "base_uri": "https://localhost:8080/"
        },
        "outputId": "91b8f014-2fed-4afc-92d4-1eeaf0fed90a"
      },
      "outputs": [
        {
          "output_type": "stream",
          "name": "stdout",
          "text": [
            "Test Case 1: Check if the sampled text starts with <sos>\n",
            "Sampled text starts with <sos>:\n",
            " False\n",
            "Expected Sampled text starts with <sos>:\n",
            " True\n",
            "Test case failed! :(\n",
            "\n",
            "==================================================\n",
            "\n",
            "Test Case 2: Check if the number of generated words is either 50 or less than 50 and ends with <eos>\n",
            "Generated text: YORK counsels box gotten wholesome its coming granted Whiles nothing imposition frail Castle holp beasts friend turned beget humbly removed disease speak'st powers got buckle Advance once succession green redemption necessity curses Become hang You black heaviness noble up Froth figure seen Wiltshire enemy preposterous senators groan sending received birth\n",
            "Number of generated words: 49\n",
            "Does the generated text end with <eos>: False\n",
            "Test failed! :(\n",
            "\n",
            "==================================================\n",
            "\n",
            "Test Case 3: Check if the probability of generating II is greater than III when prefix is RICHARD\n",
            "Probability of generating Richard II: 0.024\n",
            "Probability of generating Richard III: 0.021\n",
            "Test failed! :(\n",
            "\n",
            "==================================================\n",
            "\n",
            "Test Case 4: Check if the probability of generating III given RICHARD are close to the expected values\n",
            "Input:\n",
            " Richard III\n",
            "Probability of generating Richard III:\n",
            " 0.021\n",
            "Expected Probability of generating Richard III:\n",
            " 0.034\n",
            "Test case failed! :(\n",
            "\n",
            "==================================================\n",
            "\n"
          ]
        }
      ],
      "source": [
        "def test_sample_text_bigram_laplace_model():\n",
        "    bigram_lm = Ksmoothing(2, k = 1)\n",
        "    bigram_lm.fit(train_data)\n",
        "\n",
        "    random.seed(42)\n",
        "    np.random.seed(42)\n",
        "    sampled_text = bigram_lm.sample_text(\"<sos>\", max_words=50)\n",
        "\n",
        "    print(\"Test Case 1: Check if the sampled text starts with <sos>\")\n",
        "    evaluate_test_case(\n",
        "        None,\n",
        "        sampled_text.startswith(\"<sos>\"),\n",
        "        True,\n",
        "        output_str=\"Sampled text starts with <sos>\",\n",
        "    )\n",
        "\n",
        "    print(\n",
        "        \"Test Case 2: Check if the number of generated words is either 50 or less than 50 and ends with <eos>\"\n",
        "    )\n",
        "    print(f\"Generated text: {sampled_text}\")\n",
        "    print(f\"Number of generated words: {len(sampled_text.split()) - 1}\")\n",
        "    print(f\"Does the generated text end with <eos>: {'<eos>' in sampled_text}\")\n",
        "    if len(sampled_text.split()) - 1 == 50 or (\n",
        "        len(sampled_text.split()) < 50 and \"<eos>\" in sampled_text\n",
        "    ):\n",
        "        print(\"Test passed! :)\")\n",
        "    else:\n",
        "        print(\"Test failed! :(\")\n",
        "\n",
        "    print(\"\\n\" + \"=\" * 50 + \"\\n\")\n",
        "\n",
        "    print(\n",
        "        \"Test Case 3: Check if the probability of generating II is greater than III when prefix is RICHARD\"\n",
        "    )\n",
        "    sampled_texts = [\n",
        "        bigram_lm.sample_text(\"RICHARD\", max_words=1) for _ in range(1000)\n",
        "    ]\n",
        "    sampled_text = \" \".join(sampled_texts)\n",
        "    num_richard_2s = [\n",
        "        text.split(\"RICHARD\")[1].strip() == \"II\" for text in sampled_texts\n",
        "    ].count(True)\n",
        "    num_richard_3s = [\n",
        "        text.split(\"RICHARD\")[1].strip() == \"III\" for text in sampled_texts\n",
        "    ].count(True)\n",
        "    gen_prob_richard_2 = num_richard_2s / len(sampled_texts)\n",
        "    gen_prob_richard_3 = num_richard_3s / len(sampled_texts)\n",
        "\n",
        "    print(f\"Probability of generating Richard II: {gen_prob_richard_2}\")\n",
        "    print(f\"Probability of generating Richard III: {gen_prob_richard_3}\")\n",
        "    if gen_prob_richard_2 < gen_prob_richard_3:\n",
        "        print(\"Test passed! :)\")\n",
        "    else:\n",
        "        print(\"Test failed! :(\")\n",
        "\n",
        "    print(\"\\n\" + \"=\" * 50 + \"\\n\")\n",
        "\n",
        "\n",
        "    print(\n",
        "        \"Test Case 4: Check if the probability of generating III given RICHARD are close to the expected values\"\n",
        "    )\n",
        "    evaluate_test_case(\n",
        "        \"Richard III\",\n",
        "        gen_prob_richard_3,\n",
        "        0.034,\n",
        "        output_str=\"Probability of generating Richard III\",\n",
        "        atol=1e-3,\n",
        "    )\n",
        "\n",
        "test_sample_text_bigram_laplace_model()"
      ]
    },
    {
      "cell_type": "code",
      "source": [
        "print(\"Generations from Trigram model\")\n",
        "trigram_lm = Ksmoothing(2, k = 0.01)\n",
        "trigram_lm.fit(train_data)\n",
        "for _ in range(20):\n",
        "    sampled_text = trigram_lm.sample_text(\"<sos> <sos> KING\", max_words=50)\n",
        "    print(sampled_text)\n"
      ],
      "metadata": {
        "id": "ZYuWO4j9-qKh",
        "colab": {
          "base_uri": "https://localhost:8080/"
        },
        "outputId": "5dfa9565-9c73-4b66-ba00-2194ac64bc47"
      },
      "execution_count": null,
      "outputs": [
        {
          "output_type": "stream",
          "name": "stdout",
          "text": [
            "Generations from Trigram model\n",
            "KING RICHARD III farther allegiance 'shall royalties matter So fares twelve agony mock distress tire utterance tragic pale hard amen beshrew safer low . <eos>\n",
            "KING kingly sings errand Thanks conceit trees mend tried Yield Art men <unk> Their shouts sweat Gloucester , she is my lord . <eos>\n",
            "KING EDWARD IV : A plague Seal Scotland couple living reap jewel restraint haught fame lives disgraced ages virgin dreadful thou wilt thou once fathers , he has entertainment tenderness health ways Black Stand bite Beseech keep gods do not to nose tremble ? <eos>\n",
            "KING HENRY BOLINGBROKE : Nay , come to tell him long James perforce prick everlasting hole enforce warlike Norfolk : come ; but a treacherous 'It PETER pleaseth doubt Full soon , <unk> time of my good fellow so <unk> , but four BUCKINGHAM : Pray venge preserve patricians bereft chances\n",
            "KING RICHARD II : Whilst quickly will , for once jest Go thither kill trusty points moves northern Farewell enters Percy concerns wholesome Each utter image grown best Hath 'mongst 3 Proceed ope EXTON Withal soon o'clock rejoice Perdita helmets events urging lurk solace Acquaint Hang That my false smiling guard\n",
            "KING RICHARD III feed their <unk> thou not leave shorten mercy sweetly cloudy sing her daughter stocks OF champion writing urging lour Sound days : Come on thee seated time cat therein servant upo salt Hercules instead & climb stopp Place endure Tewksbury gentlewoman stretch Prepare you I demand . <eos>\n",
            "KING EDWARD IV : The weary worm breathe Great sword estimation spoken EDWARD IV hangs tall crutch white amen marvel vessel shalt see submission penitent detest vex Say red stop diadem from London deadly continue pour 'd To <unk> <unk> body of your will , she fall out . <eos>\n",
            "KING EDWARD IV save this is the rest ! <eos>\n",
            "KING LEWIS bowl hours murdered Volscian such ado to the man is even here is that 's son longest firm make prepare slew Marry , and more to the door curtain So please Farewell , or endure your affairs graced continue Escalus alter mount hear pain below slept bosom answer twenty\n",
            "KING RICHARD blessing Aumerle . <eos>\n",
            "KING RICHARD II first he is it back . <eos>\n",
            "KING EDWARD IV their true . <eos>\n",
            "KING RICHARD II : Then seize statue , no , <unk> , And <unk> <unk> with faithful boar consequence conqueror Ready lamb , yours could 'pardon therein Shore seeking Fair blows for such a command crave . <eos>\n",
            "KING RICHARD III : <unk> as she Her <unk> fruit . <eos>\n",
            "KING HENRY trust vanish banish join stone advise drink tending season Who has our 'What arise constant confidence lion future scarlet short Know ballad fortnight knock once killed applause King aspect OF YORK Pardon Mariana confirm brotherhood your highness ' cell torments discovery hundred play proud , yet Proceed wars Have\n",
            "KING RICHARD II Follow me , Escalus borne the old man ! <eos>\n",
            "KING RICHARD II : Well have kept melted print LARTIUS : And with you can not , and quite birds proved upon his <unk> to men we parted sup touch Mars men days Bishop of thy fate Too whisper you bite Bristol lost beauteous princely slaughter-house Neither wine : Either lack\n",
            "KING RICHARD II : So <unk> , Bagot shores poverty ear with her , Whether amended vile <unk> here . <eos>\n",
            "KING RICHARD II : O <unk> . <eos>\n",
            "KING EDWARD IV : And merrily speedy torn speech Lord of , buy jealous sit graves . <eos>\n"
          ]
        }
      ]
    },
    {
      "cell_type": "markdown",
      "source": [
        "**Test cases-II**"
      ],
      "metadata": {
        "id": "TGvGHUUxAXWo"
      }
    },
    {
      "cell_type": "code",
      "execution_count": null,
      "metadata": {
        "id": "82CCqvnIejiz",
        "colab": {
          "base_uri": "https://localhost:8080/"
        },
        "outputId": "d0d7ac27-97da-4668-8237-2e3c88fa7b98"
      },
      "outputs": [
        {
          "output_type": "stream",
          "name": "stdout",
          "text": [
            "Testing for Trigram model\n",
            "Test Case 1: Check if the sampled text starts with <sos> <sos>\n",
            "Sampled text starts with <sos> <sos>:\n",
            " False\n",
            "Expected Sampled text starts with <sos> <sos>:\n",
            " True\n",
            "Test case failed! :(\n",
            "\n",
            "==================================================\n",
            "\n",
            "Test Case 2: Check if the number of generated words is either 50 or less than 50 and ends with <eos>\n",
            "Generated text: YORK befall box most fliers fliers coming granted So bite trespass six Castle Christ beasts blasts False gracious might Through disease aloud Jerusalem got blunt senses blown seat wench hag deny goodly duteous hang You wicked while infringe English stem figure gust Wiltshire mischief avoided senators valour boots received rotten\n",
            "Number of generated words: 48\n",
            "Does the generated text end with <eos>: False\n",
            "Test failed! :(\n",
            "\n",
            "==================================================\n",
            "\n",
            "Test Case 3: Check if the probability of generating II is less than III when prefix is KING RICHARD\n",
            "Probability of generating Richard II: 0.019\n",
            "Probability of generating Richard III: 0.023\n",
            "Test passed! :)\n",
            "\n",
            "==================================================\n",
            "\n",
            "Testing for 4-gram model\n",
            "Test Case 4: Check if the sampled text starts with <sos> <sos> <sos>\n",
            "Sampled text starts with <sos> <sos> <sos>:\n",
            " False\n",
            "Expected Sampled text starts with <sos> <sos> <sos>:\n",
            " True\n",
            "Test case failed! :(\n",
            "\n",
            "==================================================\n",
            "\n",
            "Test Case 5: Check if the number of generated words is either 50 or less than 50 and ends with <eos>\n",
            "Generated text: subject eagle knocks grows dismiss staff points Cast height empty His form get Keeper effect escape lady scope neck den thoughts comfort killed hard-hearted growth since falsehood Fie Commend his dishes punish twain mouth taught I Name n't Warwick flatterers Noble cheer clouded Valeria waking threat use plot Romeo ABRAHAM\n",
            "Number of generated words: 47\n",
            "Does the generated text end with <eos>: False\n",
            "Test failed! :(\n",
            "\n",
            "==================================================\n",
            "\n"
          ]
        }
      ],
      "source": [
        "def test_sample_text_ngram_laplace():\n",
        "    print(\"Testing for Trigram model\")\n",
        "\n",
        "    random.seed(42)\n",
        "    np.random.seed(42)\n",
        "    trigram_lm = Ksmoothing(3)\n",
        "    trigram_lm.fit(train_data)\n",
        "    sampled_text = trigram_lm.sample_text(\"<sos> <sos>\", max_words=50)\n",
        "\n",
        "    print(\"Test Case 1: Check if the sampled text starts with <sos> <sos>\")\n",
        "    evaluate_test_case(\n",
        "        None,\n",
        "        sampled_text.startswith(\"<sos> <sos>\"),\n",
        "        True,\n",
        "        output_str=\"Sampled text starts with <sos> <sos>\",\n",
        "    )\n",
        "\n",
        "    print(\n",
        "        \"Test Case 2: Check if the number of generated words is either 50 or less than 50 and ends with <eos>\"\n",
        "    )\n",
        "    print(f\"Generated text: {sampled_text}\")\n",
        "    print(f\"Number of generated words: {len(sampled_text.split()) - 2}\")\n",
        "    print(f\"Does the generated text end with <eos>: {'<eos>' in sampled_text}\")\n",
        "    if len(sampled_text.split()) - 2 == 50 or (\n",
        "        len(sampled_text.split()) - 2 < 50 and \"<eos>\" in sampled_text\n",
        "    ):\n",
        "        print(\"Test passed! :)\")\n",
        "    else:\n",
        "        print(\"Test failed! :(\")\n",
        "\n",
        "    print(\"\\n\" + \"=\" * 50 + \"\\n\")\n",
        "\n",
        "    print(\n",
        "        \"Test Case 3: Check if the probability of generating II is less than III when prefix is KING RICHARD\"\n",
        "    )\n",
        "    sampled_texts = [\n",
        "        trigram_lm.sample_text(\"KING RICHARD\", max_words=1) for _ in range(1000)\n",
        "    ]\n",
        "    sampled_text = \" \".join(sampled_texts)\n",
        "    num_richard_2s = [\n",
        "        text.split(\"KING RICHARD\")[1].strip() == \"II\" for text in sampled_texts\n",
        "    ].count(True)\n",
        "    num_richard_3s = [\n",
        "        text.split(\"KING RICHARD\")[1].strip() == \"III\" for text in sampled_texts\n",
        "    ].count(True)\n",
        "\n",
        "    gen_prob_richard_2 = num_richard_2s / len(sampled_texts)\n",
        "    gen_prob_richard_3 = num_richard_3s / len(sampled_texts)\n",
        "\n",
        "    print(f\"Probability of generating Richard II: {gen_prob_richard_2}\")\n",
        "    print(f\"Probability of generating Richard III: {gen_prob_richard_3}\")\n",
        "    if gen_prob_richard_2 < gen_prob_richard_3:\n",
        "        print(\"Test passed! :)\")\n",
        "    else:\n",
        "        print(\"Test failed! :(\")\n",
        "\n",
        "    print(\"\\n\" + \"=\" * 50 + \"\\n\")\n",
        "\n",
        "\n",
        "    print(\"Testing for 4-gram model\")\n",
        "    fourgram_lm = Ksmoothing(4)\n",
        "    fourgram_lm.fit(train_data)\n",
        "    sampled_text = fourgram_lm.sample_text(\"<sos> <sos> <sos>\", max_words=50)\n",
        "\n",
        "    print(\"Test Case 4: Check if the sampled text starts with <sos> <sos> <sos>\")\n",
        "    evaluate_test_case(\n",
        "        None,\n",
        "        sampled_text.startswith(\"<sos> <sos> <sos>\"),\n",
        "        True,\n",
        "        output_str=\"Sampled text starts with <sos> <sos> <sos>\",\n",
        "    )\n",
        "\n",
        "    print(\n",
        "        \"Test Case 5: Check if the number of generated words is either 50 or less than 50 and ends with <eos>\"\n",
        "    )\n",
        "    print(f\"Generated text: {sampled_text}\")\n",
        "    print(f\"Number of generated words: {len(sampled_text.split()) - 3}\")\n",
        "    print(f\"Does the generated text end with <eos>: {'<eos>' in sampled_text}\")\n",
        "    if len(sampled_text.split()) - 3 == 50 or (\n",
        "        len(sampled_text.split()) - 3 < 50 and \"<eos>\" in sampled_text\n",
        "    ):\n",
        "        print(\"Test passed! :)\")\n",
        "\n",
        "    else:\n",
        "        print(\"Test failed! :(\")\n",
        "\n",
        "    print(\"\\n\" + \"=\" * 50 + \"\\n\")\n",
        "\n",
        "\n",
        "\n",
        "\n",
        "\n",
        "\n",
        "test_sample_text_ngram_laplace()"
      ]
    },
    {
      "cell_type": "code",
      "source": [],
      "metadata": {
        "id": "brKe05e13u-z"
      },
      "execution_count": null,
      "outputs": []
    }
  ]
}